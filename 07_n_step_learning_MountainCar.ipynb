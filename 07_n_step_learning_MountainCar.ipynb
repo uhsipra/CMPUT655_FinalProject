{
  "cells": [
    {
      "cell_type": "markdown",
      "metadata": {
        "id": "YgrBbwyFXq5J"
      },
      "source": [
        "## Configurations for Colab"
      ]
    },
    {
      "cell_type": "code",
      "execution_count": 2,
      "metadata": {
        "colab": {
          "base_uri": "https://localhost:8080/"
        },
        "id": "iO5Dvg80Xq5J",
        "outputId": "76c5d4c6-8996-43ae-c236-0d4be04f0094"
      },
      "outputs": [
        {
          "name": "stdout",
          "output_type": "stream",
          "text": [
            "Reading package lists... Done\n",
            "Building dependency tree... Done\n",
            "Reading state information... Done\n",
            "\u001b[1;31mE: \u001b[0mUnable to locate package python-opengl\u001b[0m\n",
            "Reading package lists... Done\n",
            "Building dependency tree... Done\n",
            "Reading state information... Done\n",
            "ffmpeg is already the newest version (7:4.4.2-0ubuntu0.22.04.1).\n",
            "0 upgraded, 0 newly installed, 0 to remove and 23 not upgraded.\n",
            "Reading package lists... Done\n",
            "Building dependency tree... Done\n",
            "Reading state information... Done\n",
            "The following additional packages will be installed:\n",
            "  libfontenc1 libxfont2 libxkbfile1 x11-xkb-utils xfonts-base xfonts-encodings xfonts-utils\n",
            "  xserver-common\n",
            "The following NEW packages will be installed:\n",
            "  libfontenc1 libxfont2 libxkbfile1 x11-xkb-utils xfonts-base xfonts-encodings xfonts-utils\n",
            "  xserver-common xvfb\n",
            "0 upgraded, 9 newly installed, 0 to remove and 23 not upgraded.\n",
            "Need to get 7,814 kB of archives.\n",
            "After this operation, 11.9 MB of additional disk space will be used.\n",
            "Get:1 http://archive.ubuntu.com/ubuntu jammy/main amd64 libfontenc1 amd64 1:1.1.4-1build3 [14.7 kB]\n",
            "Get:2 http://archive.ubuntu.com/ubuntu jammy/main amd64 libxfont2 amd64 1:2.0.5-1build1 [94.5 kB]\n",
            "Get:3 http://archive.ubuntu.com/ubuntu jammy/main amd64 libxkbfile1 amd64 1:1.1.0-1build3 [71.8 kB]\n",
            "Get:4 http://archive.ubuntu.com/ubuntu jammy/main amd64 x11-xkb-utils amd64 7.7+5build4 [172 kB]\n",
            "Get:5 http://archive.ubuntu.com/ubuntu jammy/main amd64 xfonts-encodings all 1:1.0.5-0ubuntu2 [578 kB]\n",
            "Get:6 http://archive.ubuntu.com/ubuntu jammy/main amd64 xfonts-utils amd64 1:7.7+6build2 [94.6 kB]\n",
            "Get:7 http://archive.ubuntu.com/ubuntu jammy/main amd64 xfonts-base all 1:1.0.5 [5,896 kB]\n",
            "Get:8 http://archive.ubuntu.com/ubuntu jammy-updates/main amd64 xserver-common all 2:21.1.4-2ubuntu1.7~22.04.2 [28.1 kB]\n",
            "Get:9 http://archive.ubuntu.com/ubuntu jammy-updates/universe amd64 xvfb amd64 2:21.1.4-2ubuntu1.7~22.04.2 [864 kB]\n",
            "Fetched 7,814 kB in 1s (9,196 kB/s)\n",
            "Selecting previously unselected package libfontenc1:amd64.\n",
            "(Reading database ... 120903 files and directories currently installed.)\n",
            "Preparing to unpack .../0-libfontenc1_1%3a1.1.4-1build3_amd64.deb ...\n",
            "Unpacking libfontenc1:amd64 (1:1.1.4-1build3) ...\n",
            "Selecting previously unselected package libxfont2:amd64.\n",
            "Preparing to unpack .../1-libxfont2_1%3a2.0.5-1build1_amd64.deb ...\n",
            "Unpacking libxfont2:amd64 (1:2.0.5-1build1) ...\n",
            "Selecting previously unselected package libxkbfile1:amd64.\n",
            "Preparing to unpack .../2-libxkbfile1_1%3a1.1.0-1build3_amd64.deb ...\n",
            "Unpacking libxkbfile1:amd64 (1:1.1.0-1build3) ...\n",
            "Selecting previously unselected package x11-xkb-utils.\n",
            "Preparing to unpack .../3-x11-xkb-utils_7.7+5build4_amd64.deb ...\n",
            "Unpacking x11-xkb-utils (7.7+5build4) ...\n",
            "Selecting previously unselected package xfonts-encodings.\n",
            "Preparing to unpack .../4-xfonts-encodings_1%3a1.0.5-0ubuntu2_all.deb ...\n",
            "Unpacking xfonts-encodings (1:1.0.5-0ubuntu2) ...\n",
            "Selecting previously unselected package xfonts-utils.\n",
            "Preparing to unpack .../5-xfonts-utils_1%3a7.7+6build2_amd64.deb ...\n",
            "Unpacking xfonts-utils (1:7.7+6build2) ...\n",
            "Selecting previously unselected package xfonts-base.\n",
            "Preparing to unpack .../6-xfonts-base_1%3a1.0.5_all.deb ...\n",
            "Unpacking xfonts-base (1:1.0.5) ...\n",
            "Selecting previously unselected package xserver-common.\n",
            "Preparing to unpack .../7-xserver-common_2%3a21.1.4-2ubuntu1.7~22.04.2_all.deb ...\n",
            "Unpacking xserver-common (2:21.1.4-2ubuntu1.7~22.04.2) ...\n",
            "Selecting previously unselected package xvfb.\n",
            "Preparing to unpack .../8-xvfb_2%3a21.1.4-2ubuntu1.7~22.04.2_amd64.deb ...\n",
            "Unpacking xvfb (2:21.1.4-2ubuntu1.7~22.04.2) ...\n",
            "Setting up libfontenc1:amd64 (1:1.1.4-1build3) ...\n",
            "Setting up xfonts-encodings (1:1.0.5-0ubuntu2) ...\n",
            "Setting up libxkbfile1:amd64 (1:1.1.0-1build3) ...\n",
            "Setting up libxfont2:amd64 (1:2.0.5-1build1) ...\n",
            "Setting up x11-xkb-utils (7.7+5build4) ...\n",
            "Setting up xfonts-utils (1:7.7+6build2) ...\n",
            "Setting up xfonts-base (1:1.0.5) ...\n",
            "Setting up xserver-common (2:21.1.4-2ubuntu1.7~22.04.2) ...\n",
            "Setting up xvfb (2:21.1.4-2ubuntu1.7~22.04.2) ...\n",
            "Processing triggers for man-db (2.10.2-1) ...\n",
            "Processing triggers for fontconfig (2.13.1-4.2ubuntu5) ...\n",
            "Processing triggers for libc-bin (2.35-0ubuntu3.4) ...\n",
            "/sbin/ldconfig.real: /usr/local/lib/libtbbbind_2_5.so.3 is not a symbolic link\n",
            "\n",
            "/sbin/ldconfig.real: /usr/local/lib/libtbbbind_2_0.so.3 is not a symbolic link\n",
            "\n",
            "/sbin/ldconfig.real: /usr/local/lib/libtbb.so.12 is not a symbolic link\n",
            "\n",
            "/sbin/ldconfig.real: /usr/local/lib/libtbbmalloc.so.2 is not a symbolic link\n",
            "\n",
            "/sbin/ldconfig.real: /usr/local/lib/libtbbmalloc_proxy.so.2 is not a symbolic link\n",
            "\n",
            "/sbin/ldconfig.real: /usr/local/lib/libtbbbind.so.3 is not a symbolic link\n",
            "\n",
            "Collecting PyVirtualDisplay==3.0\n",
            "  Downloading PyVirtualDisplay-3.0-py3-none-any.whl (15 kB)\n",
            "Installing collected packages: PyVirtualDisplay\n",
            "Successfully installed PyVirtualDisplay-3.0\n",
            "Collecting gymnasium==0.28.1\n",
            "  Downloading gymnasium-0.28.1-py3-none-any.whl (925 kB)\n",
            "\u001b[2K     \u001b[90m━━━━━━━━━━━━━━━━━━━━━━━━━━━━━━━━━━━━━━━━\u001b[0m \u001b[32m925.5/925.5 kB\u001b[0m \u001b[31m7.5 MB/s\u001b[0m eta \u001b[36m0:00:00\u001b[0m\n",
            "\u001b[?25hRequirement already satisfied: numpy>=1.21.0 in /usr/local/lib/python3.10/dist-packages (from gymnasium==0.28.1) (1.23.5)\n",
            "Collecting jax-jumpy>=1.0.0 (from gymnasium==0.28.1)\n",
            "  Downloading jax_jumpy-1.0.0-py3-none-any.whl (20 kB)\n",
            "Requirement already satisfied: cloudpickle>=1.2.0 in /usr/local/lib/python3.10/dist-packages (from gymnasium==0.28.1) (2.2.1)\n",
            "Requirement already satisfied: typing-extensions>=4.3.0 in /usr/local/lib/python3.10/dist-packages (from gymnasium==0.28.1) (4.5.0)\n",
            "Collecting farama-notifications>=0.0.1 (from gymnasium==0.28.1)\n",
            "  Downloading Farama_Notifications-0.0.4-py3-none-any.whl (2.5 kB)\n",
            "Installing collected packages: farama-notifications, jax-jumpy, gymnasium\n",
            "Successfully installed farama-notifications-0.0.4 gymnasium-0.28.1 jax-jumpy-1.0.0\n",
            "Collecting swig\n",
            "  Downloading swig-4.1.1.post1-py2.py3-none-manylinux_2_5_x86_64.manylinux1_x86_64.whl (1.8 MB)\n",
            "\u001b[2K     \u001b[90m━━━━━━━━━━━━━━━━━━━━━━━━━━━━━━━━━━━━━━━━\u001b[0m \u001b[32m1.8/1.8 MB\u001b[0m \u001b[31m10.0 MB/s\u001b[0m eta \u001b[36m0:00:00\u001b[0m\n",
            "\u001b[?25hInstalling collected packages: swig\n",
            "Successfully installed swig-4.1.1.post1\n",
            "Requirement already satisfied: gymnasium[box2d] in /usr/local/lib/python3.10/dist-packages (0.28.1)\n",
            "Requirement already satisfied: numpy>=1.21.0 in /usr/local/lib/python3.10/dist-packages (from gymnasium[box2d]) (1.23.5)\n",
            "Requirement already satisfied: jax-jumpy>=1.0.0 in /usr/local/lib/python3.10/dist-packages (from gymnasium[box2d]) (1.0.0)\n",
            "Requirement already satisfied: cloudpickle>=1.2.0 in /usr/local/lib/python3.10/dist-packages (from gymnasium[box2d]) (2.2.1)\n",
            "Requirement already satisfied: typing-extensions>=4.3.0 in /usr/local/lib/python3.10/dist-packages (from gymnasium[box2d]) (4.5.0)\n",
            "Requirement already satisfied: farama-notifications>=0.0.1 in /usr/local/lib/python3.10/dist-packages (from gymnasium[box2d]) (0.0.4)\n",
            "Collecting box2d-py==2.3.5 (from gymnasium[box2d])\n",
            "  Downloading box2d-py-2.3.5.tar.gz (374 kB)\n",
            "\u001b[2K     \u001b[90m━━━━━━━━━━━━━━━━━━━━━━━━━━━━━━━━━━━━━━━━\u001b[0m \u001b[32m374.4/374.4 kB\u001b[0m \u001b[31m4.3 MB/s\u001b[0m eta \u001b[36m0:00:00\u001b[0m\n",
            "\u001b[?25h  Preparing metadata (setup.py) ... \u001b[?25l\u001b[?25hdone\n",
            "Collecting pygame==2.1.3 (from gymnasium[box2d])\n",
            "  Downloading pygame-2.1.3-cp310-cp310-manylinux_2_17_x86_64.manylinux2014_x86_64.whl (13.7 MB)\n",
            "\u001b[2K     \u001b[90m━━━━━━━━━━━━━━━━━━━━━━━━━━━━━━━━━━━━━━━━\u001b[0m \u001b[32m13.7/13.7 MB\u001b[0m \u001b[31m24.8 MB/s\u001b[0m eta \u001b[36m0:00:00\u001b[0m\n",
            "\u001b[?25hRequirement already satisfied: swig==4.* in /usr/local/lib/python3.10/dist-packages (from gymnasium[box2d]) (4.1.1.post1)\n",
            "Building wheels for collected packages: box2d-py\n",
            "  Building wheel for box2d-py (setup.py) ... \u001b[?25l\u001b[?25hdone\n",
            "  Created wheel for box2d-py: filename=box2d_py-2.3.5-cp310-cp310-linux_x86_64.whl size=2373074 sha256=54dfa73df8311dbe9c52cde3ab8eb65c0e19bb540980fa6c06deff1cde087529\n",
            "  Stored in directory: /root/.cache/pip/wheels/db/8f/6a/eaaadf056fba10a98d986f6dce954e6201ba3126926fc5ad9e\n",
            "Successfully built box2d-py\n",
            "Installing collected packages: box2d-py, pygame\n",
            "  Attempting uninstall: pygame\n",
            "    Found existing installation: pygame 2.5.2\n",
            "    Uninstalling pygame-2.5.2:\n",
            "      Successfully uninstalled pygame-2.5.2\n",
            "Successfully installed box2d-py-2.3.5 pygame-2.1.3\n"
          ]
        }
      ],
      "source": [
        "import sys\n",
        "IN_COLAB = \"google.colab\" in sys.modules\n",
        "\n",
        "if IN_COLAB:\n",
        "    !apt install python-opengl\n",
        "    !apt install ffmpeg\n",
        "    !apt install xvfb\n",
        "    !pip install PyVirtualDisplay==3.0\n",
        "    !pip install gymnasium==0.28.1\n",
        "    !pip install swig\n",
        "    !pip install gymnasium[box2d]\n",
        "    from pyvirtualdisplay import Display\n",
        "\n",
        "    # Start virtual display\n",
        "    dis = Display(visible=0, size=(400, 400))\n",
        "    dis.start()"
      ]
    },
    {
      "cell_type": "markdown",
      "metadata": {},
      "source": [
        "# N-Step Learning\n",
        "Code based on https://github.com/Curt-Park/rainbow-is-all-you-need/blob/master/07.n_step_learning.ipynb"
      ]
    },
    {
      "cell_type": "code",
      "execution_count": 3,
      "metadata": {
        "id": "cAWAfm6UXq5L"
      },
      "outputs": [],
      "source": [
        "import os\n",
        "from collections import deque\n",
        "from typing import Deque, Dict, List, Tuple\n",
        "\n",
        "import gymnasium as gym\n",
        "import matplotlib.pyplot as plt\n",
        "import numpy as np\n",
        "import torch\n",
        "import torch.nn as nn\n",
        "import torch.nn.functional as F\n",
        "import torch.optim as optim\n",
        "from IPython.display import clear_output"
      ]
    },
    {
      "cell_type": "markdown",
      "metadata": {
        "id": "oD-6nZ2OXq5L"
      },
      "source": [
        "## Replay buffer for N-step learning"
      ]
    },
    {
      "cell_type": "code",
      "execution_count": 4,
      "metadata": {
        "id": "8WkLr1ZBXq5M"
      },
      "outputs": [],
      "source": [
        "class ReplayBuffer:\n",
        "    \"\"\"A simple numpy replay buffer.\"\"\"\n",
        "\n",
        "    def __init__(\n",
        "        self,\n",
        "        obs_dim: int,\n",
        "        size: int,\n",
        "        batch_size: int = 32,\n",
        "        n_step: int = 3,\n",
        "        gamma: float = 0.99,\n",
        "    ):\n",
        "        self.obs_buf = np.zeros([size, obs_dim], dtype=np.float32)\n",
        "        self.next_obs_buf = np.zeros([size, obs_dim], dtype=np.float32)\n",
        "        self.acts_buf = np.zeros([size], dtype=np.float32)\n",
        "        self.rews_buf = np.zeros([size], dtype=np.float32)\n",
        "        self.done_buf = np.zeros(size, dtype=np.float32)\n",
        "        self.max_size, self.batch_size = size, batch_size\n",
        "        self.ptr, self.size, = 0, 0\n",
        "\n",
        "        # for N-step Learning\n",
        "        self.n_step_buffer = deque(maxlen=n_step)\n",
        "        self.n_step = n_step\n",
        "        self.gamma = gamma\n",
        "\n",
        "    def store(\n",
        "        self,\n",
        "        obs: np.ndarray,\n",
        "        act: np.ndarray,\n",
        "        rew: float,\n",
        "        next_obs: np.ndarray,\n",
        "        done: bool\n",
        "    ) -> Tuple[np.ndarray, np.ndarray, float, np.ndarray, bool]:\n",
        "        transition = (obs, act, rew, next_obs, done)\n",
        "        self.n_step_buffer.append(transition)\n",
        "\n",
        "        # single step transition is not ready\n",
        "        if len(self.n_step_buffer) < self.n_step:\n",
        "            return ()\n",
        "\n",
        "        # make a n-step transition\n",
        "        rew, next_obs, done = self._get_n_step_info(\n",
        "            self.n_step_buffer, self.gamma\n",
        "        )\n",
        "        obs, act = self.n_step_buffer[0][:2]\n",
        "\n",
        "        self.obs_buf[self.ptr] = obs\n",
        "        self.next_obs_buf[self.ptr] = next_obs\n",
        "        self.acts_buf[self.ptr] = act\n",
        "        self.rews_buf[self.ptr] = rew\n",
        "        self.done_buf[self.ptr] = done\n",
        "        self.ptr = (self.ptr + 1) % self.max_size\n",
        "        self.size = min(self.size + 1, self.max_size)\n",
        "\n",
        "        return self.n_step_buffer[0]\n",
        "\n",
        "    def sample_batch(self) -> Dict[str, np.ndarray]:\n",
        "        indices = np.random.choice(\n",
        "            self.size, size=self.batch_size, replace=False\n",
        "        )\n",
        "\n",
        "        return dict(\n",
        "            obs=self.obs_buf[indices],\n",
        "            next_obs=self.next_obs_buf[indices],\n",
        "            acts=self.acts_buf[indices],\n",
        "            rews=self.rews_buf[indices],\n",
        "            done=self.done_buf[indices],\n",
        "            # for N-step Learning\n",
        "            indices=indices,\n",
        "        )\n",
        "\n",
        "    def sample_batch_from_idxs(\n",
        "        self, indices: np.ndarray\n",
        "    ) -> Dict[str, np.ndarray]:\n",
        "        # for N-step Learning\n",
        "        return dict(\n",
        "            obs=self.obs_buf[indices],\n",
        "            next_obs=self.next_obs_buf[indices],\n",
        "            acts=self.acts_buf[indices],\n",
        "            rews=self.rews_buf[indices],\n",
        "            done=self.done_buf[indices],\n",
        "        )\n",
        "\n",
        "    def _get_n_step_info(\n",
        "        self, n_step_buffer: Deque, gamma: float\n",
        "    ) -> Tuple[np.int64, np.ndarray, bool]:\n",
        "        \"\"\"Return n step rew, next_obs, and done.\"\"\"\n",
        "        # info of the last transition\n",
        "        rew, next_obs, done = n_step_buffer[-1][-3:]\n",
        "\n",
        "        for transition in reversed(list(n_step_buffer)[:-1]):\n",
        "            r, n_o, d = transition[-3:]\n",
        "\n",
        "            rew = r + gamma * rew * (1 - d)\n",
        "            next_obs, done = (n_o, d) if d else (next_obs, done)\n",
        "\n",
        "        return rew, next_obs, done\n",
        "\n",
        "    def __len__(self) -> int:\n",
        "        return self.size"
      ]
    },
    {
      "cell_type": "markdown",
      "metadata": {
        "id": "He50RM4IXq5M"
      },
      "source": [
        "## Network"
      ]
    },
    {
      "cell_type": "code",
      "execution_count": 5,
      "metadata": {
        "id": "VTY8TBnjXq5M"
      },
      "outputs": [],
      "source": [
        "class Network(nn.Module):\n",
        "    def __init__(self, in_dim: int, out_dim: int):\n",
        "        \"\"\"Initialization.\"\"\"\n",
        "        super(Network, self).__init__()\n",
        "\n",
        "        self.layers = nn.Sequential(\n",
        "            nn.Linear(in_dim, 128),\n",
        "            nn.ReLU(),\n",
        "            nn.Linear(128, 128),\n",
        "            nn.ReLU(),\n",
        "            nn.Linear(128, out_dim)\n",
        "        )\n",
        "\n",
        "    def forward(self, x: torch.Tensor) -> torch.Tensor:\n",
        "        \"\"\"Forward method implementation.\"\"\"\n",
        "        return self.layers(x)"
      ]
    },
    {
      "cell_type": "markdown",
      "metadata": {
        "id": "2m69KC93Xq5M"
      },
      "source": [
        "## DQN Agent"
      ]
    },
    {
      "cell_type": "code",
      "execution_count": 6,
      "metadata": {
        "id": "cQa37mwbXq5N"
      },
      "outputs": [],
      "source": [
        "class DQNAgent:\n",
        "\n",
        "    def __init__(\n",
        "        self,\n",
        "        env: gym.Env,\n",
        "        memory_size: int,\n",
        "        batch_size: int,\n",
        "        target_update: int,\n",
        "        epsilon_decay: float,\n",
        "        seed: int,\n",
        "        max_epsilon: float = 1.0,\n",
        "        min_epsilon: float = 0.1,\n",
        "        gamma: float = 0.99,\n",
        "        # N-step Learning\n",
        "        n_step: int = 3,\n",
        "    ):\n",
        "        obs_dim = env.observation_space.shape[0]\n",
        "        action_dim = env.action_space.n\n",
        "\n",
        "        self.env = env\n",
        "        self.batch_size = batch_size\n",
        "        self.epsilon = max_epsilon\n",
        "        self.epsilon_decay = epsilon_decay\n",
        "        self.seed = seed\n",
        "        self.max_epsilon = max_epsilon\n",
        "        self.min_epsilon = min_epsilon\n",
        "        self.target_update = target_update\n",
        "        self.gamma = gamma\n",
        "\n",
        "        # memory for 1-step Learning\n",
        "        self.memory = ReplayBuffer(\n",
        "            obs_dim, memory_size, batch_size, n_step=1, gamma=gamma\n",
        "        )\n",
        "\n",
        "        # memory for N-step Learning\n",
        "        self.use_n_step = True if n_step > 1 else False\n",
        "        if self.use_n_step:\n",
        "            self.n_step = n_step\n",
        "            self.memory_n = ReplayBuffer(\n",
        "                obs_dim, memory_size, batch_size, n_step=n_step, gamma=gamma\n",
        "            )\n",
        "        print(n_step)\n",
        "        # device: cpu / gpu\n",
        "        self.device = torch.device(\n",
        "            \"cuda\" if torch.cuda.is_available() else \"cpu\"\n",
        "        )\n",
        "        print(self.device)\n",
        "\n",
        "        # networks: dqn, dqn_target\n",
        "        self.dqn = Network(obs_dim, action_dim).to(self.device)\n",
        "        self.dqn_target = Network(obs_dim, action_dim).to(self.device)\n",
        "        self.dqn_target.load_state_dict(self.dqn.state_dict())\n",
        "        self.dqn_target.eval()\n",
        "\n",
        "        # optimizer\n",
        "        self.optimizer = optim.Adam(self.dqn.parameters()) # CHANGED LR\n",
        "\n",
        "        # transition to store in memory\n",
        "        self.transition = list()\n",
        "\n",
        "        # mode: train / test\n",
        "        self.is_test = False\n",
        "\n",
        "    def select_action(self, state: np.ndarray) -> np.ndarray:\n",
        "        \"\"\"Select an action from the input state.\"\"\"\n",
        "        # epsilon greedy policy\n",
        "        if self.epsilon > np.random.random():\n",
        "            selected_action = self.env.action_space.sample()\n",
        "        else:\n",
        "            selected_action = self.dqn(\n",
        "                torch.FloatTensor(state).to(self.device)\n",
        "            ).argmax()\n",
        "            selected_action = selected_action.detach().cpu().numpy()\n",
        "\n",
        "        if not self.is_test:\n",
        "            self.transition = [state, selected_action]\n",
        "\n",
        "        return selected_action\n",
        "\n",
        "    def step(self, action: np.ndarray) -> Tuple[np.ndarray, np.float64, bool]:\n",
        "        \"\"\"Take an action and return the response of the env.\"\"\"\n",
        "        next_state, reward, terminated, truncated, _ = self.env.step(action)\n",
        "        done = terminated or truncated\n",
        "\n",
        "        if not self.is_test:\n",
        "            self.transition += [reward, next_state, done]\n",
        "\n",
        "            # N-step transition\n",
        "            if self.use_n_step:\n",
        "                one_step_transition = self.memory_n.store(*self.transition)\n",
        "            # 1-step transition\n",
        "            else:\n",
        "                one_step_transition = self.transition\n",
        "\n",
        "            # add a single step transition\n",
        "            if one_step_transition:\n",
        "                self.memory.store(*one_step_transition)\n",
        "\n",
        "        return next_state, reward, done\n",
        "\n",
        "    def update_model(self) -> torch.Tensor:\n",
        "        \"\"\"Update the model by gradient descent.\"\"\"\n",
        "        samples = self.memory.sample_batch()\n",
        "        indices = samples[\"indices\"]\n",
        "        loss = self._compute_dqn_loss(samples, self.gamma)\n",
        "\n",
        "        # N-step Learning loss\n",
        "        # we are gonna combine 1-step loss and n-step loss so as to\n",
        "        # prevent high-variance.\n",
        "        if self.use_n_step:\n",
        "            samples = self.memory_n.sample_batch_from_idxs(indices)\n",
        "            gamma = self.gamma ** self.n_step\n",
        "            n_loss = self._compute_dqn_loss(samples, gamma)\n",
        "            loss += n_loss\n",
        "\n",
        "        self.optimizer.zero_grad()\n",
        "        loss.backward()\n",
        "        self.optimizer.step()\n",
        "\n",
        "        return loss.item()\n",
        "\n",
        "    def train(self, num_frames: int, plotting_interval: int = 200):\n",
        "        \"\"\"Train the agent.\"\"\"\n",
        "        self.is_test = False\n",
        "\n",
        "        state, _ = self.env.reset(seed=self.seed)\n",
        "        update_cnt = 0\n",
        "        epsilons = []\n",
        "        losses = []\n",
        "        scores = []\n",
        "        score = 0\n",
        "\n",
        "        for frame_idx in range(1, num_frames + 1):\n",
        "            action = self.select_action(state)\n",
        "            next_state, reward, done = self.step(action)\n",
        "\n",
        "            state = next_state\n",
        "            score += reward\n",
        "\n",
        "            # if episode ends\n",
        "            if done:\n",
        "                state, _ = self.env.reset(seed=self.seed)\n",
        "                scores.append(score)\n",
        "                score = 0\n",
        "\n",
        "            if score >= 200:\n",
        "                state, _ = self.env.reset(seed=self.seed)\n",
        "                scores.append(score)\n",
        "                score = 0\n",
        "\n",
        "            # if training is ready\n",
        "            if len(self.memory) >= self.batch_size:\n",
        "                loss = self.update_model()\n",
        "                losses.append(loss)\n",
        "                update_cnt += 1\n",
        "\n",
        "                # linearly decrease epsilon\n",
        "                self.epsilon = max(\n",
        "                    self.min_epsilon, self.epsilon - (\n",
        "                        self.max_epsilon - self.min_epsilon\n",
        "                    ) * self.epsilon_decay\n",
        "                )\n",
        "                epsilons.append(self.epsilon)\n",
        "\n",
        "                # if hard update is needed\n",
        "                if update_cnt % self.target_update == 0:\n",
        "                    self._target_hard_update()\n",
        "\n",
        "            # plotting\n",
        "            if frame_idx % plotting_interval == 0:\n",
        "                self._plot(frame_idx, scores, losses, epsilons)\n",
        "\n",
        "        self.env.close()\n",
        "\n",
        "    def test(self, video_folder: str) -> None:\n",
        "        \"\"\"Test the agent.\"\"\"\n",
        "        self.is_test = True\n",
        "\n",
        "        # for recording a video\n",
        "        naive_env = self.env\n",
        "        self.env = gym.wrappers.RecordVideo(self.env, video_folder=video_folder)\n",
        "\n",
        "        state, _ = self.env.reset(seed=self.seed)\n",
        "        done = False\n",
        "        score = 0\n",
        "\n",
        "        while not done:\n",
        "            action = self.select_action(state)\n",
        "            next_state, reward, done = self.step(action)\n",
        "\n",
        "            state = next_state\n",
        "            score += reward\n",
        "\n",
        "        print(\"score: \", score)\n",
        "        self.env.close()\n",
        "\n",
        "        # reset\n",
        "        self.env = naive_env\n",
        "\n",
        "    def _compute_dqn_loss(\n",
        "        self,\n",
        "        samples: Dict[str, np.ndarray],\n",
        "        gamma: float\n",
        "    ) -> torch.Tensor:\n",
        "        \"\"\"Return dqn loss.\"\"\"\n",
        "        device = self.device  # for shortening the following lines\n",
        "        state = torch.FloatTensor(samples[\"obs\"]).to(device)\n",
        "        next_state = torch.FloatTensor(samples[\"next_obs\"]).to(device)\n",
        "        action = torch.LongTensor(samples[\"acts\"].reshape(-1, 1)).to(device)\n",
        "        reward = torch.FloatTensor(samples[\"rews\"].reshape(-1, 1)).to(device)\n",
        "        done = torch.FloatTensor(samples[\"done\"].reshape(-1, 1)).to(device)\n",
        "\n",
        "        # G_t   = r + gamma * v(s_{t+1})  if state != Terminal\n",
        "        #       = r                       otherwise\n",
        "        curr_q_value = self.dqn(state).gather(1, action)\n",
        "        next_q_value = self.dqn_target(next_state).max(\n",
        "            dim=1, keepdim=True\n",
        "        )[0].detach()\n",
        "        mask = 1 - done\n",
        "        target = (reward + gamma * next_q_value * mask).to(self.device)\n",
        "\n",
        "        # calculate dqn loss\n",
        "        loss = F.smooth_l1_loss(curr_q_value, target)\n",
        "        #loss = F.mse_loss(curr_q_value, next_q_value)\n",
        "\n",
        "        return loss\n",
        "\n",
        "    def _target_hard_update(self):\n",
        "        \"\"\"Hard update: target <- local.\"\"\"\n",
        "        self.dqn_target.load_state_dict(self.dqn.state_dict())\n",
        "\n",
        "    def _plot(\n",
        "        self,\n",
        "        frame_idx: int,\n",
        "        scores: List[float],\n",
        "        losses: List[float],\n",
        "        epsilons: List[float],\n",
        "    ):\n",
        "        \"\"\"Plot the training progresses.\"\"\"\n",
        "        clear_output(True)\n",
        "        plt.figure(figsize=(20, 5))\n",
        "        plt.subplot(131)\n",
        "        plt.title('frame %s. score: %s' % (frame_idx, np.mean(scores[-10:])))\n",
        "        plt.xlabel('Episode')\n",
        "        plt.ylabel('Reward')\n",
        "        plt.plot(scores)\n",
        "        if len(scores) >= 50:\n",
        "          #plt.plot(np.concatenate(np.zeros(49, dtype=np.float32), np.mean(scores[-50:]), dtype=np.float32))\n",
        "          plt.plot(np.mean(scores[-50:]))\n",
        "        plt.subplot(132)\n",
        "        plt.title('loss')\n",
        "        plt.plot(losses)\n",
        "        plt.subplot(133)\n",
        "        plt.title('epsilons')\n",
        "        plt.plot(epsilons)\n",
        "        plt.show()"
      ]
    },
    {
      "cell_type": "markdown",
      "metadata": {
        "id": "0n-gKZzkXq5N"
      },
      "source": [
        "## Environment\n",
        "\n",
        "You can see the [code](https://github.com/Farama-Foundation/Gymnasium/blob/main/gymnasium/envs/classic_control/cartpole.py) and [configurations](https://github.com/Farama-Foundation/Gymnasium/blob/main/gymnasium/envs/classic_control/cartpole.py#L91) of CartPole-v1 from Farama Gymnasium's repository."
      ]
    },
    {
      "cell_type": "code",
      "execution_count": 7,
      "metadata": {
        "id": "pb5LwBnaXq5N"
      },
      "outputs": [],
      "source": [
        "# environment\n",
        "#env = gym.make(\"CartPole-v1\", max_episode_steps=200, render_mode=\"rgb_array\")\n",
        "env = gym.make(\"MountainCar-v0\", render_mode=\"rgb_array\")"
      ]
    },
    {
      "cell_type": "markdown",
      "metadata": {
        "id": "RjqHr0BwXq5O"
      },
      "source": [
        "## Set random seed"
      ]
    },
    {
      "cell_type": "code",
      "execution_count": 8,
      "metadata": {
        "id": "G45vgeR6Xq5O"
      },
      "outputs": [],
      "source": [
        "seed = 777\n",
        "\n",
        "def seed_torch(seed):\n",
        "    torch.manual_seed(seed)\n",
        "    if torch.backends.cudnn.enabled:\n",
        "        torch.cuda.manual_seed(seed)\n",
        "        torch.backends.cudnn.benchmark = False\n",
        "        torch.backends.cudnn.deterministic = True\n",
        "\n",
        "np.random.seed(seed)\n",
        "seed_torch(seed)"
      ]
    },
    {
      "cell_type": "markdown",
      "metadata": {
        "id": "iBjjk9n8Xq5O"
      },
      "source": [
        "## Initialize"
      ]
    },
    {
      "cell_type": "code",
      "execution_count": 9,
      "metadata": {
        "colab": {
          "base_uri": "https://localhost:8080/"
        },
        "id": "k50tKeQQXq5P",
        "outputId": "098811d0-1eb8-4c02-fb98-00b2e918eba1"
      },
      "outputs": [
        {
          "name": "stdout",
          "output_type": "stream",
          "text": [
            "3\n",
            "cpu\n"
          ]
        }
      ],
      "source": [
        "num_frames = 100000\n",
        "batch_size = 64  # Slightly larger batch size for more complex environments\n",
        "memory_size = 10000  # Increased memory size for more diverse experience replay\n",
        "target_update = 200  # You may need less frequent target updates due to a more challenging environment\n",
        "epsilon_decay = 1 / 40000  # Adjust epsilon decay based on the environment difficulty\n",
        "\n",
        "\n",
        "# train\n",
        "agent = DQNAgent(env, memory_size, batch_size, target_update, epsilon_decay, seed)"
      ]
    },
    {
      "cell_type": "markdown",
      "metadata": {
        "id": "YUziPkXNXq5P"
      },
      "source": [
        "## Train"
      ]
    },
    {
      "cell_type": "code",
      "execution_count": 10,
      "metadata": {
        "colab": {
          "base_uri": "https://localhost:8080/",
          "height": 301
        },
        "id": "uh4Lmpr8Xq5P",
        "outputId": "694687eb-6f5a-4e80-ec4b-541ea9d8dea2"
      },
      "outputs": [
        {
          "data": {
            "image/png": "[encoded data removed]",
            "text/plain": [
              "<Figure size 2000x500 with 3 Axes>"
            ]
          },
          "metadata": {},
          "output_type": "display_data"
        }
      ],
      "source": [
        "agent.train(num_frames)"
      ]
    },
    {
      "cell_type": "markdown",
      "metadata": {
        "id": "6l0fswJuXq5Q"
      },
      "source": [
        "## Test\n",
        "\n",
        "Run the trained agent (1 episode)."
      ]
    },
    {
      "cell_type": "code",
      "execution_count": 11,
      "metadata": {
        "colab": {
          "base_uri": "https://localhost:8080/"
        },
        "id": "xRxoDNyYXq5Q",
        "outputId": "17671ee6-8e89-47fa-c5ac-d446888a6baf"
      },
      "outputs": [
        {
          "name": "stdout",
          "output_type": "stream",
          "text": [
            "Moviepy - Building video /content/videos/n_step_learning/rl-video-episode-0.mp4.\n",
            "Moviepy - Writing video /content/videos/n_step_learning/rl-video-episode-0.mp4\n",
            "\n"
          ]
        },
        {
          "name": "stderr",
          "output_type": "stream",
          "text": []
        },
        {
          "name": "stdout",
          "output_type": "stream",
          "text": [
            "Moviepy - Done !\n",
            "Moviepy - video ready /content/videos/n_step_learning/rl-video-episode-0.mp4\n",
            "score:  -110.0\n"
          ]
        }
      ],
      "source": [
        "video_folder=\"videos/n_step_learning\"\n",
        "agent.test(video_folder=video_folder)"
      ]
    },
    {
      "cell_type": "markdown",
      "metadata": {
        "id": "sctvrgs0Xq5Q"
      },
      "source": [
        "## Render"
      ]
    },
    {
      "cell_type": "code",
      "execution_count": 12,
      "metadata": {
        "colab": {
          "base_uri": "https://localhost:8080/",
          "height": 281
        },
        "id": "-JF8zao7Xq5Q",
        "outputId": "4c1b37cb-9162-4a5d-9fbb-47f7a85c0b7e"
      },
      "outputs": [
        {
          "data": {
            "text/html": [
              "\n",
              "        <video width=\"320\" height=\"240\" alt=\"test\" controls>\n",
              "        <source src=\"data:video/mp4;base64,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\" type=\"video/mp4\"/>\n",
              "        </video>\n",
              "        "
            ],
            "text/plain": [
              "<IPython.core.display.HTML object>"
            ]
          },
          "metadata": {},
          "output_type": "display_data"
        },
        {
          "name": "stdout",
          "output_type": "stream",
          "text": [
            "Played: videos/n_step_learning/rl-video-episode-0.mp4\n"
          ]
        }
      ],
      "source": [
        "import base64\n",
        "import glob\n",
        "import io\n",
        "import os\n",
        "\n",
        "from IPython.display import HTML, display\n",
        "\n",
        "\n",
        "def ipython_show_video(path: str) -> None:\n",
        "    \"\"\"Show a video at `path` within IPython Notebook.\"\"\"\n",
        "    if not os.path.isfile(path):\n",
        "        raise NameError(\"Cannot access: {}\".format(path))\n",
        "\n",
        "    video = io.open(path, \"r+b\").read()\n",
        "    encoded = base64.b64encode(video)\n",
        "\n",
        "    display(HTML(\n",
        "        data=\"\"\"\n",
        "        <video width=\"320\" height=\"240\" alt=\"test\" controls>\n",
        "        <source src=\"data:video/mp4;base64,{0}\" type=\"video/mp4\"/>\n",
        "        </video>\n",
        "        \"\"\".format(encoded.decode(\"ascii\"))\n",
        "    ))\n",
        "\n",
        "\n",
        "def show_latest_video(video_folder: str) -> str:\n",
        "    \"\"\"Show the most recently recorded video from video folder.\"\"\"\n",
        "    list_of_files = glob.glob(os.path.join(video_folder, \"*.mp4\"))\n",
        "    latest_file = max(list_of_files, key=os.path.getctime)\n",
        "    ipython_show_video(latest_file)\n",
        "    return latest_file\n",
        "\n",
        "\n",
        "latest_file = show_latest_video(video_folder=video_folder)\n",
        "print(\"Played:\", latest_file)"
      ]
    }
  ],
  "metadata": {
    "accelerator": "GPU",
    "colab": {
      "gpuType": "T4",
      "provenance": []
    },
    "kernelspec": {
      "display_name": "rainbow-is-all-you-need",
      "language": "python",
      "name": "rainbow-is-all-you-need"
    },
    "language_info": {
      "codemirror_mode": {
        "name": "ipython",
        "version": 3
      },
      "file_extension": ".py",
      "mimetype": "text/x-python",
      "name": "python",
      "nbconvert_exporter": "python",
      "pygments_lexer": "ipython3",
      "version": "3.8.12"
    }
  },
  "nbformat": 4,
  "nbformat_minor": 0
}

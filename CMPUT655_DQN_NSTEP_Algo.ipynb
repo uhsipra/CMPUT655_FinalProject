{
  "cells": [
    {
      "cell_type": "markdown",
      "metadata": {
        "colab_type": "text",
        "id": "view-in-github"
      },
      "source": [
        "<a href=\"https://colab.research.google.com/github/uhsipra/CMPUT655_FinalProject/blob/main/CMPUT655_DQN_NSTEP_Algo.ipynb\" target=\"_parent\"><img src=\"https://colab.research.google.com/assets/colab-badge.svg\" alt=\"Open In Colab\"/></a>"
      ]
    },
    {
      "cell_type": "markdown",
      "metadata": {
        "id": "KuHO2FF5M9jM"
      },
      "source": [
        "## Configurations for Colab"
      ]
    },
    {
      "cell_type": "code",
      "execution_count": 1,
      "metadata": {
        "colab": {
          "base_uri": "https://localhost:8080/"
        },
        "id": "ZDZFH77CM9jO",
        "outputId": "587deef2-8ffd-4273-8bb0-ad19db226308"
      },
      "outputs": [],
      "source": [
        "import sys\n",
        "IN_COLAB = \"google.colab\" in sys.modules\n",
        "\n",
        "if IN_COLAB:\n",
        "    %apt install -y python-opengl\n",
        "    %apt install ffmpeg\n",
        "    %apt install xvfb\n",
        "    %pip install PyVirtualDisplay==3.0\n",
        "    %pip install gymnasium==0.28.1\n",
        "    from pyvirtualdisplay import Display\n",
        "\n",
        "    # Start virtual display\n",
        "    dis = Display(visible=0, size=(400, 400))\n",
        "    dis.start()"
      ]
    },
    {
      "cell_type": "markdown",
      "metadata": {
        "id": "_4sSCWUzM9jQ"
      },
      "source": [
        "# 07. N-Step Learning\n",
        "\n",
        "[R. S. Sutton, \"Learning to predict by the methods of temporal differences.\" Machine learning, 3(1):9–44, 1988.](http://incompleteideas.net/papers/sutton-88-with-erratum.pdf)\n",
        "\n",
        "Q-learning accumulates a single reward and then uses the greedy action at the next step to bootstrap. Alternatively, forward-view multi-step targets can be used (Sutton 1988). We call it Truncated N-Step Return\n",
        "from a given state $S_t$. It is defined as,\n",
        "\n",
        "$$\n",
        "R^{(n)}_t = \\sum_{k=0}^{n-1} \\gamma_t^{(k)} R_{t+k+1}.\n",
        "$$\n",
        "\n",
        "A multi-step variant of DQN is then defined by minimizing the alternative loss,\n",
        "\n",
        "$$\n",
        "(R^{(n)}_t + \\gamma^{(n)}_t \\max_{a'} q_{\\theta}^{-}\n",
        "(S_{t+n}, a')\n",
        "- q_{\\theta}(S_t, A_t))^2.\n",
        "$$\n",
        "\n",
        "Multi-step targets with suitably tuned $n$ often lead to faster learning (Sutton and Barto 1998)."
      ]
    },
    {
      "cell_type": "code",
      "execution_count": 2,
      "metadata": {
        "id": "qxi1Lc0rM9jQ"
      },
      "outputs": [],
      "source": [
        "import os\n",
        "from collections import deque\n",
        "from typing import Deque, Dict, List, Tuple\n",
        "\n",
        "import gymnasium as gym\n",
        "import matplotlib.pyplot as plt\n",
        "import numpy as np\n",
        "import torch\n",
        "import torch.nn as nn\n",
        "import torch.nn.functional as F\n",
        "import torch.optim as optim\n",
        "from torch.distributions import Normal\n",
        "from IPython.display import clear_output\n",
        "\n",
        "from tqdm import tqdm\n",
        "import csv"
      ]
    },
    {
      "cell_type": "markdown",
      "metadata": {
        "id": "lL9HhwrqM9jR"
      },
      "source": [
        "## Replay buffer for N-step learning\n",
        "\n",
        "There are a little bit changes in Replay buffer for N-step learning. First, we use `deque` to store the most recent n-step transitions.\n",
        "\n",
        "```python\n",
        "    self.n_step_buffer = deque(maxlen=n_step)\n",
        "```\n",
        "\n",
        "You can see it doesn't actually store a transition in the buffer, unless `n_step_buffer` is full.\n",
        "\n",
        "```\n",
        "    # in store method\n",
        "    if len(self.n_step_buffer) < self.n_step:\n",
        "        return ()\n",
        "```\n",
        "\n",
        "When the length of `n_step_buffer` becomes equal to N, it eventually stores the N-step transition, which is calculated by `_get_n_step_info` method.\n",
        "\n",
        "(Please see *01.dqn.ipynb* for detailed description of the basic replay buffer.)"
      ]
    },
    {
      "cell_type": "code",
      "execution_count": 3,
      "metadata": {
        "id": "mz7raz_uM9jR"
      },
      "outputs": [],
      "source": [
        "class ReplayBuffer:\n",
        "    \"\"\"A simple numpy replay buffer.\"\"\"\n",
        "\n",
        "    def __init__(\n",
        "        self,\n",
        "        obs_dim: int,\n",
        "        size: int,\n",
        "        batch_size: int = 32,\n",
        "        n_step: int = 3,\n",
        "        gamma: float = 0.99,\n",
        "    ):\n",
        "        self.obs_buf = np.zeros([size, obs_dim], dtype=np.float32)\n",
        "        self.next_obs_buf = np.zeros([size, obs_dim], dtype=np.float32)\n",
        "        self.acts_buf = np.zeros([size], dtype=np.float32)\n",
        "        self.rews_buf = np.zeros([size], dtype=np.float32)\n",
        "        self.done_buf = np.zeros(size, dtype=np.float32)\n",
        "        self.max_size, self.batch_size = size, batch_size\n",
        "        self.ptr, self.size, = 0, 0\n",
        "\n",
        "        # for N-step Learning\n",
        "        self.n_step_buffer = deque(maxlen=n_step)\n",
        "        self.n_step = n_step\n",
        "        self.gamma = gamma\n",
        "\n",
        "    def store(\n",
        "        self,\n",
        "        obs: np.ndarray,\n",
        "        act: np.ndarray,\n",
        "        rew: float,\n",
        "        next_obs: np.ndarray,\n",
        "        done: bool\n",
        "    ) -> Tuple[np.ndarray, np.ndarray, float, np.ndarray, bool]:\n",
        "        transition = (obs, act, rew, next_obs, done)\n",
        "        self.n_step_buffer.append(transition)\n",
        "\n",
        "        # single step transition is not ready\n",
        "        if len(self.n_step_buffer) < self.n_step:\n",
        "            return ()\n",
        "\n",
        "        # make a n-step transition\n",
        "        rew, next_obs, done = self._get_n_step_info(\n",
        "            self.n_step_buffer, self.gamma\n",
        "        )\n",
        "        obs, act = self.n_step_buffer[0][:2]\n",
        "\n",
        "        self.obs_buf[self.ptr] = obs\n",
        "        self.next_obs_buf[self.ptr] = next_obs\n",
        "        self.acts_buf[self.ptr] = act\n",
        "        self.rews_buf[self.ptr] = rew\n",
        "        self.done_buf[self.ptr] = done\n",
        "        self.ptr = (self.ptr + 1) % self.max_size\n",
        "        self.size = min(self.size + 1, self.max_size)\n",
        "\n",
        "        return self.n_step_buffer[0]\n",
        "\n",
        "    def sample_batch(self) -> Dict[str, np.ndarray]:\n",
        "        indices = np.random.choice(\n",
        "            self.size, size=self.batch_size, replace=False\n",
        "        )\n",
        "\n",
        "        return dict(\n",
        "            obs=self.obs_buf[indices],\n",
        "            next_obs=self.next_obs_buf[indices],\n",
        "            acts=self.acts_buf[indices],\n",
        "            rews=self.rews_buf[indices],\n",
        "            done=self.done_buf[indices],\n",
        "            # for N-step Learning\n",
        "            indices=indices,\n",
        "        )\n",
        "\n",
        "    def sample_batch_from_idxs(\n",
        "        self, indices: np.ndarray\n",
        "    ) -> Dict[str, np.ndarray]:\n",
        "        # for N-step Learning\n",
        "        return dict(\n",
        "            obs=self.obs_buf[indices],\n",
        "            next_obs=self.next_obs_buf[indices],\n",
        "            acts=self.acts_buf[indices],\n",
        "            rews=self.rews_buf[indices],\n",
        "            done=self.done_buf[indices],\n",
        "        )\n",
        "\n",
        "    def _get_n_step_info(\n",
        "        self, n_step_buffer: Deque, gamma: float\n",
        "    ) -> Tuple[np.int64, np.ndarray, bool]:\n",
        "        \"\"\"Return n step rew, next_obs, and done.\"\"\"\n",
        "        # info of the last transition\n",
        "        rew, next_obs, done = n_step_buffer[-1][-3:]\n",
        "\n",
        "        for transition in reversed(list(n_step_buffer)[:-1]):\n",
        "            r, n_o, d = transition[-3:]\n",
        "\n",
        "            rew = r + gamma * rew * (1 - d)\n",
        "            next_obs, done = (n_o, d) if d else (next_obs, done)\n",
        "\n",
        "        return rew, next_obs, done\n",
        "\n",
        "    def __len__(self) -> int:\n",
        "        return self.size"
      ]
    },
    {
      "cell_type": "markdown",
      "metadata": {
        "id": "ele8VjNNM9jS"
      },
      "source": [
        "## Network\n",
        "\n",
        "We are going to use a simple network architecture with three fully connected layers and two non-linearity functions (ReLU)."
      ]
    },
    {
      "cell_type": "code",
      "execution_count": 4,
      "metadata": {
        "id": "86r-7PPXM9jS"
      },
      "outputs": [],
      "source": [
        "class Network(nn.Module):\n",
        "    def __init__(self, in_dim: int, out_dim: int):\n",
        "        \"\"\"Initialization.\"\"\"\n",
        "        super(Network, self).__init__()\n",
        "\n",
        "        self.layers = nn.Sequential(\n",
        "            nn.Linear(in_dim, 128),\n",
        "            nn.ReLU(),\n",
        "            nn.Linear(128, 128),\n",
        "            nn.ReLU(),\n",
        "            nn.Linear(128, out_dim)\n",
        "        )\n",
        "\n",
        "    def forward(self, x: torch.Tensor) -> torch.Tensor:\n",
        "        \"\"\"Forward method implementation.\"\"\"\n",
        "        return self.layers(x)"
      ]
    },
    {
      "cell_type": "markdown",
      "metadata": {
        "id": "2SgMpndpM9jS"
      },
      "source": [
        "## DQN Agent + N-step learning Agent\n",
        "\n",
        "Here is a summary of DQNAgent class.\n",
        "\n",
        "| Method           | Note                                                 |\n",
        "| ---              | ---                                                  |\n",
        "|select_action     | select an action from the input state.               |\n",
        "|step              | take an action and return the response of the env.   |\n",
        "|compute_dqn_loss  | return dqn loss.                                     |\n",
        "|update_model      | update the model by gradient descent.                |\n",
        "|target_hard_update| hard update from the local model to the target model.|\n",
        "|train             | train the agent during num_frames.                   |\n",
        "|test              | test the agent (1 episode).                          |\n",
        "|plot              | plot the training progresses.                        |\n",
        "\n",
        "We use two buffers: `memory` and `memory_n` for 1-step transitions and n-step transitions respectively. It guarantees that any paired 1-step and n-step transitions have the same indices (See `step` method for more details). Due to the reason, we can sample pairs of transitions from the two buffers once we have indices for samples.\n",
        "\n",
        "```python\n",
        "    def update_model(self) -> torch.Tensor:\n",
        "        ...\n",
        "        samples = self.memory.sample_batch()\n",
        "        indices = samples[\"indices\"]\n",
        "        ...\n",
        "        \n",
        "        # N-step Learning loss\n",
        "        if self.use_n_step:\n",
        "            samples = self.memory_n.sample_batch_from_idxs(indices)\n",
        "            ...\n",
        "```\n",
        "\n",
        "One thing to note that  we are gonna combine 1-step loss and n-step loss so as to control high-variance / high-bias trade-off.\n",
        "\n",
        "(Search the comments with *N-step Leaning* to see any difference from DQN.)"
      ]
    },
    {
      "cell_type": "code",
      "execution_count": 5,
      "metadata": {
        "id": "sr2WzfBwM9jT"
      },
      "outputs": [],
      "source": [
        "class DQNAgent:\n",
        "    \"\"\"DQN Agent interacting with environment.\n",
        "\n",
        "    Attribute:\n",
        "        env (gym.Env): openAI Gym environment\n",
        "        memory (ReplayBuffer): replay memory to store transitions\n",
        "        batch_size (int): batch size for sampling\n",
        "        epsilon (float): parameter for epsilon greedy policy\n",
        "        epsilon_decay (float): step size to decrease epsilon\n",
        "        max_epsilon (float): max value of epsilon\n",
        "        min_epsilon (float): min value of epsilon\n",
        "        target_update (int): period for target model's hard update\n",
        "        gamma (float): discount factor\n",
        "        dqn (Network): model to train and select actions\n",
        "        dqn_target (Network): target model to update\n",
        "        optimizer (torch.optim): optimizer for training dqn\n",
        "        transition (list): transition information including\n",
        "                           state, action, reward, next_state, done\n",
        "        use_n_step (bool): whether to use n_step memory\n",
        "        n_step (int): step number to calculate n-step td error\n",
        "        memory_n (ReplayBuffer): n-step replay buffer\n",
        "    \"\"\"\n",
        "\n",
        "    def __init__(\n",
        "        self,\n",
        "        env: gym.Env,\n",
        "        memory_size: int,\n",
        "        batch_size: int,\n",
        "        target_update: int,\n",
        "        epsilon_decay: float,\n",
        "        seed: int,\n",
        "        max_epsilon: float = 1.0,\n",
        "        min_epsilon: float = 0.1,\n",
        "        gamma: float = 0.99,\n",
        "        # N-step Learning\n",
        "        n_step: int = 3,\n",
        "    ):\n",
        "        \"\"\"Initialization.\n",
        "\n",
        "        Args:\n",
        "            env (gym.Env): openAI Gym environment\n",
        "            memory_size (int): length of memory\n",
        "            batch_size (int): batch size for sampling\n",
        "            target_update (int): period for target model's hard update\n",
        "            epsilon_decay (float): step size to decrease epsilon\n",
        "            lr (float): learning rate\n",
        "            max_epsilon (float): max value of epsilon\n",
        "            min_epsilon (float): min value of epsilon\n",
        "            gamma (float): discount factor\n",
        "            n_step (int): step number to calculate n-step td error\n",
        "        \"\"\"\n",
        "        obs_dim = env.observation_space.shape[0]\n",
        "        action_dim = env.action_space.n\n",
        "\n",
        "        self.env = env\n",
        "        self.batch_size = batch_size\n",
        "        self.epsilon = max_epsilon\n",
        "        self.epsilon_decay = epsilon_decay\n",
        "        self.seed = seed\n",
        "        self.max_epsilon = max_epsilon\n",
        "        self.min_epsilon = min_epsilon\n",
        "        self.target_update = target_update\n",
        "        self.gamma = gamma\n",
        "\n",
        "        # memory for 1-step Learning\n",
        "        self.memory = ReplayBuffer(\n",
        "            obs_dim, memory_size, batch_size, n_step=1, gamma=gamma\n",
        "        )\n",
        "\n",
        "        # memory for N-step Learning\n",
        "        self.use_n_step = True if n_step > 1 else False\n",
        "        if self.use_n_step:\n",
        "            self.n_step = n_step\n",
        "            self.memory_n = ReplayBuffer(\n",
        "                obs_dim, memory_size, batch_size, n_step=n_step, gamma=gamma\n",
        "            )\n",
        "\n",
        "        # device: cpu / gpu\n",
        "        self.device = torch.device(\n",
        "            \"cuda\" if torch.cuda.is_available() else \"cpu\"\n",
        "        )\n",
        "        self.device = \"cpu\"\n",
        "        #print(self.device)\n",
        "\n",
        "        # networks: dqn, dqn_target\n",
        "        self.dqn = Network(obs_dim, action_dim).to(self.device)\n",
        "        self.dqn_target = Network(obs_dim, action_dim).to(self.device)\n",
        "        self.dqn_target.load_state_dict(self.dqn.state_dict())\n",
        "        self.dqn_target.eval()\n",
        "\n",
        "        # optimizer\n",
        "        self.optimizer = optim.Adam(self.dqn.parameters())\n",
        "\n",
        "        # transition to store in memory\n",
        "        self.transition = list()\n",
        "\n",
        "        # mode: train / test\n",
        "        self.is_test = False\n",
        "\n",
        "    def select_action(self, state: np.ndarray) -> np.ndarray:\n",
        "        \"\"\"Select an action from the input state.\"\"\"\n",
        "        # epsilon greedy policy\n",
        "        if self.epsilon > np.random.random():\n",
        "            selected_action = self.env.action_space.sample()\n",
        "        else:\n",
        "            selected_action = self.dqn(\n",
        "                torch.FloatTensor(state).to(self.device)\n",
        "            ).argmax()\n",
        "            selected_action = selected_action.detach().cpu().numpy()\n",
        "\n",
        "        if not self.is_test:\n",
        "            self.transition = [state, selected_action]\n",
        "\n",
        "        return selected_action\n",
        "\n",
        "    def step(self, action: np.ndarray) -> Tuple[np.ndarray, np.float64, bool]:\n",
        "        \"\"\"Take an action and return the response of the env.\"\"\"\n",
        "        next_state, reward, terminated, truncated, _ = self.env.step(action)\n",
        "        done = terminated or truncated\n",
        "\n",
        "        if not self.is_test:\n",
        "            self.transition += [reward, next_state, done]\n",
        "\n",
        "            # N-step transition\n",
        "            if self.use_n_step:\n",
        "                one_step_transition = self.memory_n.store(*self.transition)\n",
        "            # 1-step transition\n",
        "            else:\n",
        "                one_step_transition = self.transition\n",
        "\n",
        "            # add a single step transition\n",
        "            if one_step_transition:\n",
        "                self.memory.store(*one_step_transition)\n",
        "\n",
        "        return next_state, reward, done\n",
        "\n",
        "    def update_model(self) -> torch.Tensor:\n",
        "        \"\"\"Update the model by gradient descent.\"\"\"\n",
        "        samples = self.memory.sample_batch()\n",
        "        indices = samples[\"indices\"]\n",
        "        loss = self._compute_dqn_loss(samples, self.gamma)\n",
        "\n",
        "        # N-step Learning loss\n",
        "        # we are gonna combine 1-step loss and n-step loss so as to\n",
        "        # prevent high-variance.\n",
        "        if self.use_n_step:\n",
        "            samples = self.memory_n.sample_batch_from_idxs(indices)\n",
        "            gamma = self.gamma ** self.n_step\n",
        "            n_loss = self._compute_dqn_loss(samples, gamma)\n",
        "            loss += n_loss\n",
        "\n",
        "        self.optimizer.zero_grad()\n",
        "        loss.backward()\n",
        "        self.optimizer.step()\n",
        "\n",
        "        return loss.item()\n",
        "\n",
        "    def train(self, num_frames: int, var: float, plotting_interval: int = 200, csv_writer = None):\n",
        "        \"\"\"Train the agent.\"\"\"\n",
        "        self.is_test = False\n",
        "\n",
        "        state, _ = self.env.reset(seed=self.seed)\n",
        "        update_cnt = 0\n",
        "        epsilons = []\n",
        "        losses = []\n",
        "        scores = []\n",
        "        score = 0\n",
        "        elen_list = []\n",
        "        elen = 0\n",
        "\n",
        "        for frame_idx in range(1, num_frames + 1):\n",
        "            action = self.select_action(state)\n",
        "            next_state, reward, done = self.step(action)\n",
        "            elen+=1\n",
        "\n",
        "            state = next_state\n",
        "            score += reward\n",
        "\n",
        "            #sample reward from dist\n",
        "            if var > 0:\n",
        "                reward = Normal(reward, reward*var).sample().item()\n",
        "\n",
        "            # if episode ends\n",
        "            if done:\n",
        "                state, _ = self.env.reset(seed=self.seed)\n",
        "                scores.append(score)\n",
        "                score = 0\n",
        "                elen_list.append(elen)\n",
        "                elen = 0\n",
        "\n",
        "            # if training is ready\n",
        "            if len(self.memory) >= self.batch_size:\n",
        "                loss = self.update_model()\n",
        "                losses.append(loss)\n",
        "                update_cnt += 1\n",
        "\n",
        "                # linearly decrease epsilon\n",
        "                self.epsilon = max(\n",
        "                    self.min_epsilon, self.epsilon - (\n",
        "                        self.max_epsilon - self.min_epsilon\n",
        "                    ) * self.epsilon_decay\n",
        "                )\n",
        "                epsilons.append(self.epsilon)\n",
        "\n",
        "                # if hard update is needed\n",
        "                if update_cnt % self.target_update == 0:\n",
        "                    self._target_hard_update()\n",
        "\n",
        "            # plotting\n",
        "            if csv_writer is None and frame_idx % plotting_interval == 0:\n",
        "                self._plot(frame_idx, scores, losses, epsilons)\n",
        "        if csv_writer is not None:\n",
        "            csv_writer.writerow([f\"{self.memory.max_size}/{var}\", *elen_list])\n",
        "\n",
        "        self.env.close()\n",
        "\n",
        "    def test(self, video_folder: str) -> None:\n",
        "        \"\"\"Test the agent.\"\"\"\n",
        "        self.is_test = True\n",
        "\n",
        "        # for recording a video\n",
        "        naive_env = self.env\n",
        "        self.env = gym.wrappers.RecordVideo(self.env, video_folder=video_folder)\n",
        "\n",
        "        state, _ = self.env.reset(seed=self.seed)\n",
        "        done = False\n",
        "        score = 0\n",
        "\n",
        "        while not done:\n",
        "            action = self.select_action(state)\n",
        "            next_state, reward, done = self.step(action)\n",
        "\n",
        "            state = next_state\n",
        "            score += reward\n",
        "\n",
        "        print(\"score: \", score)\n",
        "        self.env.close()\n",
        "\n",
        "        # reset\n",
        "        self.env = naive_env\n",
        "\n",
        "    def _compute_dqn_loss(\n",
        "        self,\n",
        "        samples: Dict[str, np.ndarray],\n",
        "        gamma: float\n",
        "    ) -> torch.Tensor:\n",
        "        \"\"\"Return dqn loss.\"\"\"\n",
        "        device = self.device  # for shortening the following lines\n",
        "        state = torch.FloatTensor(samples[\"obs\"]).to(device)\n",
        "        next_state = torch.FloatTensor(samples[\"next_obs\"]).to(device)\n",
        "        action = torch.LongTensor(samples[\"acts\"].reshape(-1, 1)).to(device)\n",
        "        reward = torch.FloatTensor(samples[\"rews\"].reshape(-1, 1)).to(device)\n",
        "        done = torch.FloatTensor(samples[\"done\"].reshape(-1, 1)).to(device)\n",
        "\n",
        "        # G_t   = r + gamma * v(s_{t+1})  if state != Terminal\n",
        "        #       = r                       otherwise\n",
        "        curr_q_value = self.dqn(state).gather(1, action)\n",
        "        next_q_value = self.dqn_target(next_state).max(\n",
        "            dim=1, keepdim=True\n",
        "        )[0].detach()\n",
        "        mask = 1 - done\n",
        "        target = (reward + gamma * next_q_value * mask).to(self.device)\n",
        "\n",
        "        # calculate dqn loss\n",
        "        loss = F.smooth_l1_loss(curr_q_value, target)\n",
        "\n",
        "        return loss\n",
        "\n",
        "    def _target_hard_update(self):\n",
        "        \"\"\"Hard update: target <- local.\"\"\"\n",
        "        self.dqn_target.load_state_dict(self.dqn.state_dict())\n",
        "\n",
        "    def _plot(\n",
        "        self,\n",
        "        frame_idx: int,\n",
        "        scores: List[float],\n",
        "        losses: List[float],\n",
        "        epsilons: List[float],\n",
        "    ):\n",
        "        \"\"\"Plot the training progresses.\"\"\"\n",
        "        clear_output(True)\n",
        "        plt.figure(figsize=(20, 5))\n",
        "        plt.subplot(131)\n",
        "        plt.title('frame %s. score: %s' % (frame_idx, np.mean(scores[-10:])))\n",
        "        plt.plot(scores)\n",
        "        plt.subplot(132)\n",
        "        plt.title('loss')\n",
        "        plt.plot(losses)\n",
        "        plt.subplot(133)\n",
        "        plt.title('epsilons')\n",
        "        plt.plot(epsilons)\n",
        "        plt.show()"
      ]
    },
    {
      "cell_type": "markdown",
      "metadata": {
        "id": "BG0erORJM9jT"
      },
      "source": [
        "## Environment\n",
        "\n",
        "You can see the [code](https://github.com/Farama-Foundation/Gymnasium/blob/main/gymnasium/envs/classic_control/cartpole.py) and [configurations](https://github.com/Farama-Foundation/Gymnasium/blob/main/gymnasium/envs/classic_control/cartpole.py#L91) of CartPole-v1 from Farama Gymnasium's repository."
      ]
    },
    {
      "cell_type": "code",
      "execution_count": 6,
      "metadata": {
        "id": "yxg_1yBXM9jU"
      },
      "outputs": [],
      "source": [
        "# environment\n",
        "env = gym.make(\"CartPole-v1\", max_episode_steps=200, render_mode=\"rgb_array\")"
      ]
    },
    {
      "cell_type": "markdown",
      "metadata": {
        "id": "qVlhzJj9M9jU"
      },
      "source": [
        "## Set random seed"
      ]
    },
    {
      "cell_type": "code",
      "execution_count": 7,
      "metadata": {
        "id": "c_4Bhh_rM9jU"
      },
      "outputs": [],
      "source": [
        "seed = 777\n",
        "\n",
        "def seed_torch(seed):\n",
        "    torch.manual_seed(seed)\n",
        "    if torch.backends.cudnn.enabled:\n",
        "        torch.cuda.manual_seed(seed)\n",
        "        torch.backends.cudnn.benchmark = False\n",
        "        torch.backends.cudnn.deterministic = True\n",
        "\n",
        "np.random.seed(seed)\n",
        "seed_torch(seed)"
      ]
    },
    {
      "cell_type": "markdown",
      "metadata": {
        "id": "lZJ0re1bM9jU"
      },
      "source": [
        "## Initialize"
      ]
    },
    {
      "cell_type": "code",
      "execution_count": 8,
      "metadata": {
        "colab": {
          "base_uri": "https://localhost:8080/"
        },
        "id": "jHXcvVhCM9jU",
        "outputId": "19890ae1-e140-4b20-e73a-7677d0196344"
      },
      "outputs": [],
      "source": [
        "# parameters\n",
        "num_frames = 3000\n",
        "memory_size = 2000\n",
        "batch_size = 32\n",
        "target_update = 100\n",
        "epsilon_decay = 1 / 2000\n",
        "\n",
        "# train\n",
        "agent = DQNAgent(env, memory_size, batch_size, target_update, epsilon_decay, seed)"
      ]
    },
    {
      "cell_type": "markdown",
      "metadata": {
        "id": "-0eIX0T8M9jV"
      },
      "source": [
        "## Train"
      ]
    },
    {
      "cell_type": "code",
      "execution_count": 9,
      "metadata": {
        "colab": {
          "base_uri": "https://localhost:8080/",
          "height": 249
        },
        "id": "hwSf5SnlM9jV",
        "outputId": "6a5c2fe2-1ec0-4cd6-d265-c057136dd9b0"
      },
      "outputs": [
        {
          "data": {
            "image/png": "[encoded data removed]",
            "text/plain": [
              "<Figure size 2000x500 with 3 Axes>"
            ]
          },
          "metadata": {},
          "output_type": "display_data"
        }
      ],
      "source": [
        "agent.train(num_frames, 0)"
      ]
    },
    {
      "cell_type": "markdown",
      "metadata": {
        "id": "-FjFco6VM9jV"
      },
      "source": [
        "## Test\n",
        "\n",
        "Run the trained agent (1 episode)."
      ]
    },
    {
      "cell_type": "code",
      "execution_count": 10,
      "metadata": {
        "colab": {
          "base_uri": "https://localhost:8080/"
        },
        "id": "ZYsLjHUaM9jV",
        "outputId": "c42d544e-805e-4552-d9ab-aa4121ee2c03"
      },
      "outputs": [
        {
          "name": "stderr",
          "output_type": "stream",
          "text": [
            "d:\\Users\\Alex-PC\\anaconda3\\envs\\Pytorch\\lib\\site-packages\\gymnasium\\wrappers\\record_video.py:94: UserWarning: \u001b[33mWARN: Overwriting existing videos at c:\\Users\\Alex-PC\\CMPUT655_FinalProject\\videos\\n_step_learning folder (try specifying a different `video_folder` for the `RecordVideo` wrapper if this is not desired)\u001b[0m\n",
            "  logger.warn(\n"
          ]
        },
        {
          "name": "stdout",
          "output_type": "stream",
          "text": [
            "Moviepy - Building video c:\\Users\\Alex-PC\\CMPUT655_FinalProject\\videos\\n_step_learning\\rl-video-episode-0.mp4.\n",
            "Moviepy - Writing video c:\\Users\\Alex-PC\\CMPUT655_FinalProject\\videos\\n_step_learning\\rl-video-episode-0.mp4\n",
            "\n"
          ]
        },
        {
          "name": "stderr",
          "output_type": "stream",
          "text": [
            "                                                               "
          ]
        },
        {
          "name": "stdout",
          "output_type": "stream",
          "text": [
            "Moviepy - Done !\n",
            "Moviepy - video ready c:\\Users\\Alex-PC\\CMPUT655_FinalProject\\videos\\n_step_learning\\rl-video-episode-0.mp4\n",
            "score:  200.0\n"
          ]
        },
        {
          "name": "stderr",
          "output_type": "stream",
          "text": [
            "\r"
          ]
        }
      ],
      "source": [
        "video_folder=\"videos/n_step_learning\"\n",
        "agent.test(video_folder=video_folder)"
      ]
    },
    {
      "cell_type": "markdown",
      "metadata": {
        "id": "MtL30Xx1M9jW"
      },
      "source": [
        "## Render"
      ]
    },
    {
      "cell_type": "code",
      "execution_count": 11,
      "metadata": {
        "colab": {
          "base_uri": "https://localhost:8080/",
          "height": 278
        },
        "id": "F-e26GG2M9jW",
        "outputId": "35a9d48b-e672-418d-ee39-b6f9c61ad25c"
      },
      "outputs": [
        {
          "data": {
            "text/html": [
              "\n",
              "        <video width=\"320\" height=\"240\" alt=\"test\" controls>\n",
              "        <source src=\"data:video/mp4;base64,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\" type=\"video/mp4\"/>\n",
              "        </video>\n",
              "        "
            ],
            "text/plain": [
              "<IPython.core.display.HTML object>"
            ]
          },
          "metadata": {},
          "output_type": "display_data"
        },
        {
          "name": "stdout",
          "output_type": "stream",
          "text": [
            "Played: videos/n_step_learning\\rl-video-episode-0.mp4\n"
          ]
        }
      ],
      "source": [
        "import base64\n",
        "import glob\n",
        "import io\n",
        "import os\n",
        "\n",
        "from IPython.display import HTML, display\n",
        "\n",
        "\n",
        "def ipython_show_video(path: str) -> None:\n",
        "    \"\"\"Show a video at `path` within IPython Notebook.\"\"\"\n",
        "    if not os.path.isfile(path):\n",
        "        raise NameError(\"Cannot access: {}\".format(path))\n",
        "\n",
        "    video = io.open(path, \"r+b\").read()\n",
        "    encoded = base64.b64encode(video)\n",
        "\n",
        "    display(HTML(\n",
        "        data=\"\"\"\n",
        "        <video width=\"320\" height=\"240\" alt=\"test\" controls>\n",
        "        <source src=\"data:video/mp4;base64,{0}\" type=\"video/mp4\"/>\n",
        "        </video>\n",
        "        \"\"\".format(encoded.decode(\"ascii\"))\n",
        "    ))\n",
        "\n",
        "\n",
        "def show_latest_video(video_folder: str) -> str:\n",
        "    \"\"\"Show the most recently recorded video from video folder.\"\"\"\n",
        "    list_of_files = glob.glob(os.path.join(video_folder, \"*.mp4\"))\n",
        "    latest_file = max(list_of_files, key=os.path.getctime)\n",
        "    ipython_show_video(latest_file)\n",
        "    return latest_file\n",
        "\n",
        "\n",
        "latest_file = show_latest_video(video_folder=video_folder)\n",
        "print(\"Played:\", latest_file)"
      ]
    },
    {
      "cell_type": "markdown",
      "metadata": {},
      "source": [
        "## Run Trials"
      ]
    },
    {
      "cell_type": "code",
      "execution_count": 12,
      "metadata": {},
      "outputs": [
        {
          "name": "stderr",
          "output_type": "stream",
          "text": [
            "  1%|          | 2/360 [01:57<5:51:12, 58.86s/it]\n"
          ]
        },
        {
          "ename": "KeyboardInterrupt",
          "evalue": "",
          "output_type": "error",
          "traceback": [
            "\u001b[1;31m---------------------------------------------------------------------------\u001b[0m",
            "\u001b[1;31mKeyboardInterrupt\u001b[0m                         Traceback (most recent call last)",
            "\u001b[1;32mc:\\Users\\Alex-PC\\CMPUT655_FinalProject\\CMPUT655_DQN_NSTEP_Algo.ipynb Cell 25\u001b[0m line \u001b[0;36m3\n\u001b[0;32m     <a href='vscode-notebook-cell:/c%3A/Users/Alex-PC/CMPUT655_FinalProject/CMPUT655_DQN_NSTEP_Algo.ipynb#X33sZmlsZQ%3D%3D?line=33'>34</a>\u001b[0m     \u001b[39m# train\u001b[39;00m\n\u001b[0;32m     <a href='vscode-notebook-cell:/c%3A/Users/Alex-PC/CMPUT655_FinalProject/CMPUT655_DQN_NSTEP_Algo.ipynb#X33sZmlsZQ%3D%3D?line=34'>35</a>\u001b[0m     agent \u001b[39m=\u001b[39m DQNAgent(env, memory_size, batch_size, target_update, epsilon_decay, seed)\n\u001b[1;32m---> <a href='vscode-notebook-cell:/c%3A/Users/Alex-PC/CMPUT655_FinalProject/CMPUT655_DQN_NSTEP_Algo.ipynb#X33sZmlsZQ%3D%3D?line=35'>36</a>\u001b[0m     agent\u001b[39m.\u001b[39;49mtrain(num_frames, var, csv_writer\u001b[39m=\u001b[39;49mcsv_writer)\n\u001b[0;32m     <a href='vscode-notebook-cell:/c%3A/Users/Alex-PC/CMPUT655_FinalProject/CMPUT655_DQN_NSTEP_Algo.ipynb#X33sZmlsZQ%3D%3D?line=36'>37</a>\u001b[0m     csvfile\u001b[39m.\u001b[39mflush()\n\u001b[0;32m     <a href='vscode-notebook-cell:/c%3A/Users/Alex-PC/CMPUT655_FinalProject/CMPUT655_DQN_NSTEP_Algo.ipynb#X33sZmlsZQ%3D%3D?line=37'>38</a>\u001b[0m csvfile\u001b[39m.\u001b[39mclose()\n",
            "\u001b[1;32mc:\\Users\\Alex-PC\\CMPUT655_FinalProject\\CMPUT655_DQN_NSTEP_Algo.ipynb Cell 25\u001b[0m line \u001b[0;36m1\n\u001b[0;32m    <a href='vscode-notebook-cell:/c%3A/Users/Alex-PC/CMPUT655_FinalProject/CMPUT655_DQN_NSTEP_Algo.ipynb#X33sZmlsZQ%3D%3D?line=189'>190</a>\u001b[0m \u001b[39m# if training is ready\u001b[39;00m\n\u001b[0;32m    <a href='vscode-notebook-cell:/c%3A/Users/Alex-PC/CMPUT655_FinalProject/CMPUT655_DQN_NSTEP_Algo.ipynb#X33sZmlsZQ%3D%3D?line=190'>191</a>\u001b[0m \u001b[39mif\u001b[39;00m \u001b[39mlen\u001b[39m(\u001b[39mself\u001b[39m\u001b[39m.\u001b[39mmemory) \u001b[39m>\u001b[39m\u001b[39m=\u001b[39m \u001b[39mself\u001b[39m\u001b[39m.\u001b[39mbatch_size:\n\u001b[1;32m--> <a href='vscode-notebook-cell:/c%3A/Users/Alex-PC/CMPUT655_FinalProject/CMPUT655_DQN_NSTEP_Algo.ipynb#X33sZmlsZQ%3D%3D?line=191'>192</a>\u001b[0m     loss \u001b[39m=\u001b[39m \u001b[39mself\u001b[39;49m\u001b[39m.\u001b[39;49mupdate_model()\n\u001b[0;32m    <a href='vscode-notebook-cell:/c%3A/Users/Alex-PC/CMPUT655_FinalProject/CMPUT655_DQN_NSTEP_Algo.ipynb#X33sZmlsZQ%3D%3D?line=192'>193</a>\u001b[0m     losses\u001b[39m.\u001b[39mappend(loss)\n\u001b[0;32m    <a href='vscode-notebook-cell:/c%3A/Users/Alex-PC/CMPUT655_FinalProject/CMPUT655_DQN_NSTEP_Algo.ipynb#X33sZmlsZQ%3D%3D?line=193'>194</a>\u001b[0m     update_cnt \u001b[39m+\u001b[39m\u001b[39m=\u001b[39m \u001b[39m1\u001b[39m\n",
            "\u001b[1;32mc:\\Users\\Alex-PC\\CMPUT655_FinalProject\\CMPUT655_DQN_NSTEP_Algo.ipynb Cell 25\u001b[0m line \u001b[0;36m1\n\u001b[0;32m    <a href='vscode-notebook-cell:/c%3A/Users/Alex-PC/CMPUT655_FinalProject/CMPUT655_DQN_NSTEP_Algo.ipynb#X33sZmlsZQ%3D%3D?line=137'>138</a>\u001b[0m samples \u001b[39m=\u001b[39m \u001b[39mself\u001b[39m\u001b[39m.\u001b[39mmemory\u001b[39m.\u001b[39msample_batch()\n\u001b[0;32m    <a href='vscode-notebook-cell:/c%3A/Users/Alex-PC/CMPUT655_FinalProject/CMPUT655_DQN_NSTEP_Algo.ipynb#X33sZmlsZQ%3D%3D?line=138'>139</a>\u001b[0m indices \u001b[39m=\u001b[39m samples[\u001b[39m\"\u001b[39m\u001b[39mindices\u001b[39m\u001b[39m\"\u001b[39m]\n\u001b[1;32m--> <a href='vscode-notebook-cell:/c%3A/Users/Alex-PC/CMPUT655_FinalProject/CMPUT655_DQN_NSTEP_Algo.ipynb#X33sZmlsZQ%3D%3D?line=139'>140</a>\u001b[0m loss \u001b[39m=\u001b[39m \u001b[39mself\u001b[39;49m\u001b[39m.\u001b[39;49m_compute_dqn_loss(samples, \u001b[39mself\u001b[39;49m\u001b[39m.\u001b[39;49mgamma)\n\u001b[0;32m    <a href='vscode-notebook-cell:/c%3A/Users/Alex-PC/CMPUT655_FinalProject/CMPUT655_DQN_NSTEP_Algo.ipynb#X33sZmlsZQ%3D%3D?line=141'>142</a>\u001b[0m \u001b[39m# N-step Learning loss\u001b[39;00m\n\u001b[0;32m    <a href='vscode-notebook-cell:/c%3A/Users/Alex-PC/CMPUT655_FinalProject/CMPUT655_DQN_NSTEP_Algo.ipynb#X33sZmlsZQ%3D%3D?line=142'>143</a>\u001b[0m \u001b[39m# we are gonna combine 1-step loss and n-step loss so as to\u001b[39;00m\n\u001b[0;32m    <a href='vscode-notebook-cell:/c%3A/Users/Alex-PC/CMPUT655_FinalProject/CMPUT655_DQN_NSTEP_Algo.ipynb#X33sZmlsZQ%3D%3D?line=143'>144</a>\u001b[0m \u001b[39m# prevent high-variance.\u001b[39;00m\n\u001b[0;32m    <a href='vscode-notebook-cell:/c%3A/Users/Alex-PC/CMPUT655_FinalProject/CMPUT655_DQN_NSTEP_Algo.ipynb#X33sZmlsZQ%3D%3D?line=144'>145</a>\u001b[0m \u001b[39mif\u001b[39;00m \u001b[39mself\u001b[39m\u001b[39m.\u001b[39muse_n_step:\n",
            "\u001b[1;32mc:\\Users\\Alex-PC\\CMPUT655_FinalProject\\CMPUT655_DQN_NSTEP_Algo.ipynb Cell 25\u001b[0m line \u001b[0;36m2\n\u001b[0;32m    <a href='vscode-notebook-cell:/c%3A/Users/Alex-PC/CMPUT655_FinalProject/CMPUT655_DQN_NSTEP_Algo.ipynb#X33sZmlsZQ%3D%3D?line=251'>252</a>\u001b[0m done \u001b[39m=\u001b[39m torch\u001b[39m.\u001b[39mFloatTensor(samples[\u001b[39m\"\u001b[39m\u001b[39mdone\u001b[39m\u001b[39m\"\u001b[39m]\u001b[39m.\u001b[39mreshape(\u001b[39m-\u001b[39m\u001b[39m1\u001b[39m, \u001b[39m1\u001b[39m))\u001b[39m.\u001b[39mto(device)\n\u001b[0;32m    <a href='vscode-notebook-cell:/c%3A/Users/Alex-PC/CMPUT655_FinalProject/CMPUT655_DQN_NSTEP_Algo.ipynb#X33sZmlsZQ%3D%3D?line=253'>254</a>\u001b[0m \u001b[39m# G_t   = r + gamma * v(s_{t+1})  if state != Terminal\u001b[39;00m\n\u001b[0;32m    <a href='vscode-notebook-cell:/c%3A/Users/Alex-PC/CMPUT655_FinalProject/CMPUT655_DQN_NSTEP_Algo.ipynb#X33sZmlsZQ%3D%3D?line=254'>255</a>\u001b[0m \u001b[39m#       = r                       otherwise\u001b[39;00m\n\u001b[1;32m--> <a href='vscode-notebook-cell:/c%3A/Users/Alex-PC/CMPUT655_FinalProject/CMPUT655_DQN_NSTEP_Algo.ipynb#X33sZmlsZQ%3D%3D?line=255'>256</a>\u001b[0m curr_q_value \u001b[39m=\u001b[39m \u001b[39mself\u001b[39;49m\u001b[39m.\u001b[39;49mdqn(state)\u001b[39m.\u001b[39mgather(\u001b[39m1\u001b[39m, action)\n\u001b[0;32m    <a href='vscode-notebook-cell:/c%3A/Users/Alex-PC/CMPUT655_FinalProject/CMPUT655_DQN_NSTEP_Algo.ipynb#X33sZmlsZQ%3D%3D?line=256'>257</a>\u001b[0m next_q_value \u001b[39m=\u001b[39m \u001b[39mself\u001b[39m\u001b[39m.\u001b[39mdqn_target(next_state)\u001b[39m.\u001b[39mmax(\n\u001b[0;32m    <a href='vscode-notebook-cell:/c%3A/Users/Alex-PC/CMPUT655_FinalProject/CMPUT655_DQN_NSTEP_Algo.ipynb#X33sZmlsZQ%3D%3D?line=257'>258</a>\u001b[0m     dim\u001b[39m=\u001b[39m\u001b[39m1\u001b[39m, keepdim\u001b[39m=\u001b[39m\u001b[39mTrue\u001b[39;00m\n\u001b[0;32m    <a href='vscode-notebook-cell:/c%3A/Users/Alex-PC/CMPUT655_FinalProject/CMPUT655_DQN_NSTEP_Algo.ipynb#X33sZmlsZQ%3D%3D?line=258'>259</a>\u001b[0m )[\u001b[39m0\u001b[39m]\u001b[39m.\u001b[39mdetach()\n\u001b[0;32m    <a href='vscode-notebook-cell:/c%3A/Users/Alex-PC/CMPUT655_FinalProject/CMPUT655_DQN_NSTEP_Algo.ipynb#X33sZmlsZQ%3D%3D?line=259'>260</a>\u001b[0m mask \u001b[39m=\u001b[39m \u001b[39m1\u001b[39m \u001b[39m-\u001b[39m done\n",
            "File \u001b[1;32md:\\Users\\Alex-PC\\anaconda3\\envs\\Pytorch\\lib\\site-packages\\torch\\nn\\modules\\module.py:1501\u001b[0m, in \u001b[0;36mModule._call_impl\u001b[1;34m(self, *args, **kwargs)\u001b[0m\n\u001b[0;32m   1496\u001b[0m \u001b[39m# If we don't have any hooks, we want to skip the rest of the logic in\u001b[39;00m\n\u001b[0;32m   1497\u001b[0m \u001b[39m# this function, and just call forward.\u001b[39;00m\n\u001b[0;32m   1498\u001b[0m \u001b[39mif\u001b[39;00m \u001b[39mnot\u001b[39;00m (\u001b[39mself\u001b[39m\u001b[39m.\u001b[39m_backward_hooks \u001b[39mor\u001b[39;00m \u001b[39mself\u001b[39m\u001b[39m.\u001b[39m_backward_pre_hooks \u001b[39mor\u001b[39;00m \u001b[39mself\u001b[39m\u001b[39m.\u001b[39m_forward_hooks \u001b[39mor\u001b[39;00m \u001b[39mself\u001b[39m\u001b[39m.\u001b[39m_forward_pre_hooks\n\u001b[0;32m   1499\u001b[0m         \u001b[39mor\u001b[39;00m _global_backward_pre_hooks \u001b[39mor\u001b[39;00m _global_backward_hooks\n\u001b[0;32m   1500\u001b[0m         \u001b[39mor\u001b[39;00m _global_forward_hooks \u001b[39mor\u001b[39;00m _global_forward_pre_hooks):\n\u001b[1;32m-> 1501\u001b[0m     \u001b[39mreturn\u001b[39;00m forward_call(\u001b[39m*\u001b[39margs, \u001b[39m*\u001b[39m\u001b[39m*\u001b[39mkwargs)\n\u001b[0;32m   1502\u001b[0m \u001b[39m# Do not call functions when jit is used\u001b[39;00m\n\u001b[0;32m   1503\u001b[0m full_backward_hooks, non_full_backward_hooks \u001b[39m=\u001b[39m [], []\n",
            "\u001b[1;32mc:\\Users\\Alex-PC\\CMPUT655_FinalProject\\CMPUT655_DQN_NSTEP_Algo.ipynb Cell 25\u001b[0m line \u001b[0;36m1\n\u001b[0;32m     <a href='vscode-notebook-cell:/c%3A/Users/Alex-PC/CMPUT655_FinalProject/CMPUT655_DQN_NSTEP_Algo.ipynb#X33sZmlsZQ%3D%3D?line=13'>14</a>\u001b[0m \u001b[39mdef\u001b[39;00m \u001b[39mforward\u001b[39m(\u001b[39mself\u001b[39m, x: torch\u001b[39m.\u001b[39mTensor) \u001b[39m-\u001b[39m\u001b[39m>\u001b[39m torch\u001b[39m.\u001b[39mTensor:\n\u001b[0;32m     <a href='vscode-notebook-cell:/c%3A/Users/Alex-PC/CMPUT655_FinalProject/CMPUT655_DQN_NSTEP_Algo.ipynb#X33sZmlsZQ%3D%3D?line=14'>15</a>\u001b[0m \u001b[39m    \u001b[39m\u001b[39m\"\"\"Forward method implementation.\"\"\"\u001b[39;00m\n\u001b[1;32m---> <a href='vscode-notebook-cell:/c%3A/Users/Alex-PC/CMPUT655_FinalProject/CMPUT655_DQN_NSTEP_Algo.ipynb#X33sZmlsZQ%3D%3D?line=15'>16</a>\u001b[0m     \u001b[39mreturn\u001b[39;00m \u001b[39mself\u001b[39;49m\u001b[39m.\u001b[39;49mlayers(x)\n",
            "File \u001b[1;32md:\\Users\\Alex-PC\\anaconda3\\envs\\Pytorch\\lib\\site-packages\\torch\\nn\\modules\\module.py:1501\u001b[0m, in \u001b[0;36mModule._call_impl\u001b[1;34m(self, *args, **kwargs)\u001b[0m\n\u001b[0;32m   1496\u001b[0m \u001b[39m# If we don't have any hooks, we want to skip the rest of the logic in\u001b[39;00m\n\u001b[0;32m   1497\u001b[0m \u001b[39m# this function, and just call forward.\u001b[39;00m\n\u001b[0;32m   1498\u001b[0m \u001b[39mif\u001b[39;00m \u001b[39mnot\u001b[39;00m (\u001b[39mself\u001b[39m\u001b[39m.\u001b[39m_backward_hooks \u001b[39mor\u001b[39;00m \u001b[39mself\u001b[39m\u001b[39m.\u001b[39m_backward_pre_hooks \u001b[39mor\u001b[39;00m \u001b[39mself\u001b[39m\u001b[39m.\u001b[39m_forward_hooks \u001b[39mor\u001b[39;00m \u001b[39mself\u001b[39m\u001b[39m.\u001b[39m_forward_pre_hooks\n\u001b[0;32m   1499\u001b[0m         \u001b[39mor\u001b[39;00m _global_backward_pre_hooks \u001b[39mor\u001b[39;00m _global_backward_hooks\n\u001b[0;32m   1500\u001b[0m         \u001b[39mor\u001b[39;00m _global_forward_hooks \u001b[39mor\u001b[39;00m _global_forward_pre_hooks):\n\u001b[1;32m-> 1501\u001b[0m     \u001b[39mreturn\u001b[39;00m forward_call(\u001b[39m*\u001b[39margs, \u001b[39m*\u001b[39m\u001b[39m*\u001b[39mkwargs)\n\u001b[0;32m   1502\u001b[0m \u001b[39m# Do not call functions when jit is used\u001b[39;00m\n\u001b[0;32m   1503\u001b[0m full_backward_hooks, non_full_backward_hooks \u001b[39m=\u001b[39m [], []\n",
            "File \u001b[1;32md:\\Users\\Alex-PC\\anaconda3\\envs\\Pytorch\\lib\\site-packages\\torch\\nn\\modules\\container.py:217\u001b[0m, in \u001b[0;36mSequential.forward\u001b[1;34m(self, input)\u001b[0m\n\u001b[0;32m    215\u001b[0m \u001b[39mdef\u001b[39;00m \u001b[39mforward\u001b[39m(\u001b[39mself\u001b[39m, \u001b[39minput\u001b[39m):\n\u001b[0;32m    216\u001b[0m     \u001b[39mfor\u001b[39;00m module \u001b[39min\u001b[39;00m \u001b[39mself\u001b[39m:\n\u001b[1;32m--> 217\u001b[0m         \u001b[39minput\u001b[39m \u001b[39m=\u001b[39m module(\u001b[39minput\u001b[39;49m)\n\u001b[0;32m    218\u001b[0m     \u001b[39mreturn\u001b[39;00m \u001b[39minput\u001b[39m\n",
            "File \u001b[1;32md:\\Users\\Alex-PC\\anaconda3\\envs\\Pytorch\\lib\\site-packages\\torch\\nn\\modules\\module.py:1501\u001b[0m, in \u001b[0;36mModule._call_impl\u001b[1;34m(self, *args, **kwargs)\u001b[0m\n\u001b[0;32m   1496\u001b[0m \u001b[39m# If we don't have any hooks, we want to skip the rest of the logic in\u001b[39;00m\n\u001b[0;32m   1497\u001b[0m \u001b[39m# this function, and just call forward.\u001b[39;00m\n\u001b[0;32m   1498\u001b[0m \u001b[39mif\u001b[39;00m \u001b[39mnot\u001b[39;00m (\u001b[39mself\u001b[39m\u001b[39m.\u001b[39m_backward_hooks \u001b[39mor\u001b[39;00m \u001b[39mself\u001b[39m\u001b[39m.\u001b[39m_backward_pre_hooks \u001b[39mor\u001b[39;00m \u001b[39mself\u001b[39m\u001b[39m.\u001b[39m_forward_hooks \u001b[39mor\u001b[39;00m \u001b[39mself\u001b[39m\u001b[39m.\u001b[39m_forward_pre_hooks\n\u001b[0;32m   1499\u001b[0m         \u001b[39mor\u001b[39;00m _global_backward_pre_hooks \u001b[39mor\u001b[39;00m _global_backward_hooks\n\u001b[0;32m   1500\u001b[0m         \u001b[39mor\u001b[39;00m _global_forward_hooks \u001b[39mor\u001b[39;00m _global_forward_pre_hooks):\n\u001b[1;32m-> 1501\u001b[0m     \u001b[39mreturn\u001b[39;00m forward_call(\u001b[39m*\u001b[39margs, \u001b[39m*\u001b[39m\u001b[39m*\u001b[39mkwargs)\n\u001b[0;32m   1502\u001b[0m \u001b[39m# Do not call functions when jit is used\u001b[39;00m\n\u001b[0;32m   1503\u001b[0m full_backward_hooks, non_full_backward_hooks \u001b[39m=\u001b[39m [], []\n",
            "File \u001b[1;32md:\\Users\\Alex-PC\\anaconda3\\envs\\Pytorch\\lib\\site-packages\\torch\\nn\\modules\\linear.py:114\u001b[0m, in \u001b[0;36mLinear.forward\u001b[1;34m(self, input)\u001b[0m\n\u001b[0;32m    113\u001b[0m \u001b[39mdef\u001b[39;00m \u001b[39mforward\u001b[39m(\u001b[39mself\u001b[39m, \u001b[39minput\u001b[39m: Tensor) \u001b[39m-\u001b[39m\u001b[39m>\u001b[39m Tensor:\n\u001b[1;32m--> 114\u001b[0m     \u001b[39mreturn\u001b[39;00m F\u001b[39m.\u001b[39;49mlinear(\u001b[39minput\u001b[39;49m, \u001b[39mself\u001b[39;49m\u001b[39m.\u001b[39;49mweight, \u001b[39mself\u001b[39;49m\u001b[39m.\u001b[39;49mbias)\n",
            "\u001b[1;31mKeyboardInterrupt\u001b[0m: "
          ]
        }
      ],
      "source": [
        "num_trials = 10\n",
        "variences = [0, 0.1, 0.2, 0.4, 0.8, 1.6]\n",
        "db_sizes = [200, 400, 800, 1600, 3200, 6400]\n",
        "\n",
        "total_tests = num_trials * len(variences) * len(db_sizes)\n",
        "\n",
        "seed = 11\n",
        "\n",
        "csvfile = open('./results.csv', 'w', newline='')\n",
        "csv_writer = csv.writer(csvfile, delimiter=' ', quotechar='|', quoting=csv.QUOTE_MINIMAL)\n",
        "\n",
        "for test in tqdm(range(total_tests)):\n",
        "    # get current trial info\n",
        "    tid = test%num_trials\n",
        "    ttt = test//num_trials\n",
        "    dbs = db_sizes[ttt % len(db_sizes)]\n",
        "    ttt = ttt//len(db_sizes)\n",
        "    var = variences[ttt%len(variences)]\n",
        "\n",
        "    #reset our randomness on each new test\n",
        "    if tid == 0:\n",
        "        np.random.seed(seed)\n",
        "        seed_torch(seed)\n",
        "\n",
        "    #setup trial\n",
        "    env = gym.make(\"CartPole-v1\", max_episode_steps=200)\n",
        "    # parameters\n",
        "    num_frames = 10000\n",
        "    memory_size = dbs\n",
        "    batch_size = 32\n",
        "    target_update = 100\n",
        "    epsilon_decay = 1 / 2000\n",
        "\n",
        "    # train\n",
        "    agent = DQNAgent(env, memory_size, batch_size, target_update, epsilon_decay, seed)\n",
        "    agent.train(num_frames, var, csv_writer=csv_writer)\n",
        "    csvfile.flush()\n",
        "csvfile.close()\n",
        "    "
      ]
    }
  ],
  "metadata": {
    "accelerator": "GPU",
    "colab": {
      "gpuType": "T4",
      "include_colab_link": true,
      "provenance": []
    },
    "kernelspec": {
      "display_name": "Python 3",
      "language": "python",
      "name": "python3"
    },
    "language_info": {
      "codemirror_mode": {
        "name": "ipython",
        "version": 3
      },
      "file_extension": ".py",
      "mimetype": "text/x-python",
      "name": "python",
      "nbconvert_exporter": "python",
      "pygments_lexer": "ipython3",
      "version": "3.10.10"
    }
  },
  "nbformat": 4,
  "nbformat_minor": 0
}

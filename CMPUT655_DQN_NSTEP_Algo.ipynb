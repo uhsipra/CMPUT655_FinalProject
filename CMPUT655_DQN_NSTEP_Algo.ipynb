{
  "cells": [
    {
      "cell_type": "markdown",
      "metadata": {
        "id": "view-in-github",
        "colab_type": "text"
      },
      "source": [
        "<a href=\"https://colab.research.google.com/github/uhsipra/CMPUT655_FinalProject/blob/main/CMPUT655_DQN_NSTEP_Algo.ipynb\" target=\"_parent\"><img src=\"https://colab.research.google.com/assets/colab-badge.svg\" alt=\"Open In Colab\"/></a>"
      ]
    },
    {
      "cell_type": "markdown",
      "metadata": {
        "id": "KuHO2FF5M9jM"
      },
      "source": [
        "## Configurations for Colab"
      ]
    },
    {
      "cell_type": "code",
      "execution_count": 1,
      "metadata": {
        "colab": {
          "base_uri": "https://localhost:8080/"
        },
        "id": "ZDZFH77CM9jO",
        "outputId": "587deef2-8ffd-4273-8bb0-ad19db226308"
      },
      "outputs": [
        {
          "output_type": "stream",
          "name": "stdout",
          "text": [
            "Reading package lists... Done\n",
            "Building dependency tree... Done\n",
            "Reading state information... Done\n",
            "\u001b[1;31mE: \u001b[0mUnable to locate package python-opengl\u001b[0m\n",
            "Reading package lists... Done\n",
            "Building dependency tree... Done\n",
            "Reading state information... Done\n",
            "ffmpeg is already the newest version (7:4.4.2-0ubuntu0.22.04.1).\n",
            "0 upgraded, 0 newly installed, 0 to remove and 9 not upgraded.\n",
            "Reading package lists... Done\n",
            "Building dependency tree... Done\n",
            "Reading state information... Done\n",
            "The following additional packages will be installed:\n",
            "  libfontenc1 libxfont2 libxkbfile1 x11-xkb-utils xfonts-base xfonts-encodings xfonts-utils\n",
            "  xserver-common\n",
            "The following NEW packages will be installed:\n",
            "  libfontenc1 libxfont2 libxkbfile1 x11-xkb-utils xfonts-base xfonts-encodings xfonts-utils\n",
            "  xserver-common xvfb\n",
            "0 upgraded, 9 newly installed, 0 to remove and 9 not upgraded.\n",
            "Need to get 7,814 kB of archives.\n",
            "After this operation, 11.9 MB of additional disk space will be used.\n",
            "Get:1 http://archive.ubuntu.com/ubuntu jammy/main amd64 libfontenc1 amd64 1:1.1.4-1build3 [14.7 kB]\n",
            "Get:2 http://archive.ubuntu.com/ubuntu jammy/main amd64 libxfont2 amd64 1:2.0.5-1build1 [94.5 kB]\n",
            "Get:3 http://archive.ubuntu.com/ubuntu jammy/main amd64 libxkbfile1 amd64 1:1.1.0-1build3 [71.8 kB]\n",
            "Get:4 http://archive.ubuntu.com/ubuntu jammy/main amd64 x11-xkb-utils amd64 7.7+5build4 [172 kB]\n",
            "Get:5 http://archive.ubuntu.com/ubuntu jammy/main amd64 xfonts-encodings all 1:1.0.5-0ubuntu2 [578 kB]\n",
            "Get:6 http://archive.ubuntu.com/ubuntu jammy/main amd64 xfonts-utils amd64 1:7.7+6build2 [94.6 kB]\n",
            "Get:7 http://archive.ubuntu.com/ubuntu jammy/main amd64 xfonts-base all 1:1.0.5 [5,896 kB]\n",
            "Get:8 http://archive.ubuntu.com/ubuntu jammy-updates/main amd64 xserver-common all 2:21.1.4-2ubuntu1.7~22.04.2 [28.1 kB]\n",
            "Get:9 http://archive.ubuntu.com/ubuntu jammy-updates/universe amd64 xvfb amd64 2:21.1.4-2ubuntu1.7~22.04.2 [864 kB]\n",
            "Fetched 7,814 kB in 3s (2,702 kB/s)\n",
            "Selecting previously unselected package libfontenc1:amd64.\n",
            "(Reading database ... 120880 files and directories currently installed.)\n",
            "Preparing to unpack .../0-libfontenc1_1%3a1.1.4-1build3_amd64.deb ...\n",
            "Unpacking libfontenc1:amd64 (1:1.1.4-1build3) ...\n",
            "Selecting previously unselected package libxfont2:amd64.\n",
            "Preparing to unpack .../1-libxfont2_1%3a2.0.5-1build1_amd64.deb ...\n",
            "Unpacking libxfont2:amd64 (1:2.0.5-1build1) ...\n",
            "Selecting previously unselected package libxkbfile1:amd64.\n",
            "Preparing to unpack .../2-libxkbfile1_1%3a1.1.0-1build3_amd64.deb ...\n",
            "Unpacking libxkbfile1:amd64 (1:1.1.0-1build3) ...\n",
            "Selecting previously unselected package x11-xkb-utils.\n",
            "Preparing to unpack .../3-x11-xkb-utils_7.7+5build4_amd64.deb ...\n",
            "Unpacking x11-xkb-utils (7.7+5build4) ...\n",
            "Selecting previously unselected package xfonts-encodings.\n",
            "Preparing to unpack .../4-xfonts-encodings_1%3a1.0.5-0ubuntu2_all.deb ...\n",
            "Unpacking xfonts-encodings (1:1.0.5-0ubuntu2) ...\n",
            "Selecting previously unselected package xfonts-utils.\n",
            "Preparing to unpack .../5-xfonts-utils_1%3a7.7+6build2_amd64.deb ...\n",
            "Unpacking xfonts-utils (1:7.7+6build2) ...\n",
            "Selecting previously unselected package xfonts-base.\n",
            "Preparing to unpack .../6-xfonts-base_1%3a1.0.5_all.deb ...\n",
            "Unpacking xfonts-base (1:1.0.5) ...\n",
            "Selecting previously unselected package xserver-common.\n",
            "Preparing to unpack .../7-xserver-common_2%3a21.1.4-2ubuntu1.7~22.04.2_all.deb ...\n",
            "Unpacking xserver-common (2:21.1.4-2ubuntu1.7~22.04.2) ...\n",
            "Selecting previously unselected package xvfb.\n",
            "Preparing to unpack .../8-xvfb_2%3a21.1.4-2ubuntu1.7~22.04.2_amd64.deb ...\n",
            "Unpacking xvfb (2:21.1.4-2ubuntu1.7~22.04.2) ...\n",
            "Setting up libfontenc1:amd64 (1:1.1.4-1build3) ...\n",
            "Setting up xfonts-encodings (1:1.0.5-0ubuntu2) ...\n",
            "Setting up libxkbfile1:amd64 (1:1.1.0-1build3) ...\n",
            "Setting up libxfont2:amd64 (1:2.0.5-1build1) ...\n",
            "Setting up x11-xkb-utils (7.7+5build4) ...\n",
            "Setting up xfonts-utils (1:7.7+6build2) ...\n",
            "Setting up xfonts-base (1:1.0.5) ...\n",
            "Setting up xserver-common (2:21.1.4-2ubuntu1.7~22.04.2) ...\n",
            "Setting up xvfb (2:21.1.4-2ubuntu1.7~22.04.2) ...\n",
            "Processing triggers for man-db (2.10.2-1) ...\n",
            "Processing triggers for fontconfig (2.13.1-4.2ubuntu5) ...\n",
            "Processing triggers for libc-bin (2.35-0ubuntu3.4) ...\n",
            "/sbin/ldconfig.real: /usr/local/lib/libtbbmalloc_proxy.so.2 is not a symbolic link\n",
            "\n",
            "/sbin/ldconfig.real: /usr/local/lib/libtbbmalloc.so.2 is not a symbolic link\n",
            "\n",
            "/sbin/ldconfig.real: /usr/local/lib/libtbb.so.12 is not a symbolic link\n",
            "\n",
            "/sbin/ldconfig.real: /usr/local/lib/libtbbbind.so.3 is not a symbolic link\n",
            "\n",
            "/sbin/ldconfig.real: /usr/local/lib/libtbbbind_2_5.so.3 is not a symbolic link\n",
            "\n",
            "/sbin/ldconfig.real: /usr/local/lib/libtbbbind_2_0.so.3 is not a symbolic link\n",
            "\n",
            "Collecting PyVirtualDisplay==3.0\n",
            "  Downloading PyVirtualDisplay-3.0-py3-none-any.whl (15 kB)\n",
            "Installing collected packages: PyVirtualDisplay\n",
            "Successfully installed PyVirtualDisplay-3.0\n",
            "Collecting gymnasium==0.28.1\n",
            "  Downloading gymnasium-0.28.1-py3-none-any.whl (925 kB)\n",
            "\u001b[2K     \u001b[90m━━━━━━━━━━━━━━━━━━━━━━━━━━━━━━━━━━━━━━━━\u001b[0m \u001b[32m925.5/925.5 kB\u001b[0m \u001b[31m11.9 MB/s\u001b[0m eta \u001b[36m0:00:00\u001b[0m\n",
            "\u001b[?25hRequirement already satisfied: numpy>=1.21.0 in /usr/local/lib/python3.10/dist-packages (from gymnasium==0.28.1) (1.23.5)\n",
            "Collecting jax-jumpy>=1.0.0 (from gymnasium==0.28.1)\n",
            "  Downloading jax_jumpy-1.0.0-py3-none-any.whl (20 kB)\n",
            "Requirement already satisfied: cloudpickle>=1.2.0 in /usr/local/lib/python3.10/dist-packages (from gymnasium==0.28.1) (2.2.1)\n",
            "Requirement already satisfied: typing-extensions>=4.3.0 in /usr/local/lib/python3.10/dist-packages (from gymnasium==0.28.1) (4.5.0)\n",
            "Collecting farama-notifications>=0.0.1 (from gymnasium==0.28.1)\n",
            "  Downloading Farama_Notifications-0.0.4-py3-none-any.whl (2.5 kB)\n",
            "Installing collected packages: farama-notifications, jax-jumpy, gymnasium\n",
            "Successfully installed farama-notifications-0.0.4 gymnasium-0.28.1 jax-jumpy-1.0.0\n"
          ]
        }
      ],
      "source": [
        "import sys\n",
        "IN_COLAB = \"google.colab\" in sys.modules\n",
        "\n",
        "if IN_COLAB:\n",
        "    !apt install python-opengl\n",
        "    !apt install ffmpeg\n",
        "    !apt install xvfb\n",
        "    !pip install PyVirtualDisplay==3.0\n",
        "    !pip install gymnasium==0.28.1\n",
        "    from pyvirtualdisplay import Display\n",
        "\n",
        "    # Start virtual display\n",
        "    dis = Display(visible=0, size=(400, 400))\n",
        "    dis.start()"
      ]
    },
    {
      "cell_type": "markdown",
      "metadata": {
        "id": "_4sSCWUzM9jQ"
      },
      "source": [
        "# 07. N-Step Learning\n",
        "\n",
        "[R. S. Sutton, \"Learning to predict by the methods of temporal differences.\" Machine learning, 3(1):9–44, 1988.](http://incompleteideas.net/papers/sutton-88-with-erratum.pdf)\n",
        "\n",
        "Q-learning accumulates a single reward and then uses the greedy action at the next step to bootstrap. Alternatively, forward-view multi-step targets can be used (Sutton 1988). We call it Truncated N-Step Return\n",
        "from a given state $S_t$. It is defined as,\n",
        "\n",
        "$$\n",
        "R^{(n)}_t = \\sum_{k=0}^{n-1} \\gamma_t^{(k)} R_{t+k+1}.\n",
        "$$\n",
        "\n",
        "A multi-step variant of DQN is then defined by minimizing the alternative loss,\n",
        "\n",
        "$$\n",
        "(R^{(n)}_t + \\gamma^{(n)}_t \\max_{a'} q_{\\theta}^{-}\n",
        "(S_{t+n}, a')\n",
        "- q_{\\theta}(S_t, A_t))^2.\n",
        "$$\n",
        "\n",
        "Multi-step targets with suitably tuned $n$ often lead to faster learning (Sutton and Barto 1998)."
      ]
    },
    {
      "cell_type": "code",
      "execution_count": 2,
      "metadata": {
        "id": "qxi1Lc0rM9jQ"
      },
      "outputs": [],
      "source": [
        "import os\n",
        "from collections import deque\n",
        "from typing import Deque, Dict, List, Tuple\n",
        "\n",
        "import gymnasium as gym\n",
        "import matplotlib.pyplot as plt\n",
        "import numpy as np\n",
        "import torch\n",
        "import torch.nn as nn\n",
        "import torch.nn.functional as F\n",
        "import torch.optim as optim\n",
        "from IPython.display import clear_output"
      ]
    },
    {
      "cell_type": "markdown",
      "metadata": {
        "id": "lL9HhwrqM9jR"
      },
      "source": [
        "## Replay buffer for N-step learning\n",
        "\n",
        "There are a little bit changes in Replay buffer for N-step learning. First, we use `deque` to store the most recent n-step transitions.\n",
        "\n",
        "```python\n",
        "    self.n_step_buffer = deque(maxlen=n_step)\n",
        "```\n",
        "\n",
        "You can see it doesn't actually store a transition in the buffer, unless `n_step_buffer` is full.\n",
        "\n",
        "```\n",
        "    # in store method\n",
        "    if len(self.n_step_buffer) < self.n_step:\n",
        "        return ()\n",
        "```\n",
        "\n",
        "When the length of `n_step_buffer` becomes equal to N, it eventually stores the N-step transition, which is calculated by `_get_n_step_info` method.\n",
        "\n",
        "(Please see *01.dqn.ipynb* for detailed description of the basic replay buffer.)"
      ]
    },
    {
      "cell_type": "code",
      "execution_count": 3,
      "metadata": {
        "id": "mz7raz_uM9jR"
      },
      "outputs": [],
      "source": [
        "class ReplayBuffer:\n",
        "    \"\"\"A simple numpy replay buffer.\"\"\"\n",
        "\n",
        "    def __init__(\n",
        "        self,\n",
        "        obs_dim: int,\n",
        "        size: int,\n",
        "        batch_size: int = 32,\n",
        "        n_step: int = 3,\n",
        "        gamma: float = 0.99,\n",
        "    ):\n",
        "        self.obs_buf = np.zeros([size, obs_dim], dtype=np.float32)\n",
        "        self.next_obs_buf = np.zeros([size, obs_dim], dtype=np.float32)\n",
        "        self.acts_buf = np.zeros([size], dtype=np.float32)\n",
        "        self.rews_buf = np.zeros([size], dtype=np.float32)\n",
        "        self.done_buf = np.zeros(size, dtype=np.float32)\n",
        "        self.max_size, self.batch_size = size, batch_size\n",
        "        self.ptr, self.size, = 0, 0\n",
        "\n",
        "        # for N-step Learning\n",
        "        self.n_step_buffer = deque(maxlen=n_step)\n",
        "        self.n_step = n_step\n",
        "        self.gamma = gamma\n",
        "\n",
        "    def store(\n",
        "        self,\n",
        "        obs: np.ndarray,\n",
        "        act: np.ndarray,\n",
        "        rew: float,\n",
        "        next_obs: np.ndarray,\n",
        "        done: bool\n",
        "    ) -> Tuple[np.ndarray, np.ndarray, float, np.ndarray, bool]:\n",
        "        transition = (obs, act, rew, next_obs, done)\n",
        "        self.n_step_buffer.append(transition)\n",
        "\n",
        "        # single step transition is not ready\n",
        "        if len(self.n_step_buffer) < self.n_step:\n",
        "            return ()\n",
        "\n",
        "        # make a n-step transition\n",
        "        rew, next_obs, done = self._get_n_step_info(\n",
        "            self.n_step_buffer, self.gamma\n",
        "        )\n",
        "        obs, act = self.n_step_buffer[0][:2]\n",
        "\n",
        "        self.obs_buf[self.ptr] = obs\n",
        "        self.next_obs_buf[self.ptr] = next_obs\n",
        "        self.acts_buf[self.ptr] = act\n",
        "        self.rews_buf[self.ptr] = rew\n",
        "        self.done_buf[self.ptr] = done\n",
        "        self.ptr = (self.ptr + 1) % self.max_size\n",
        "        self.size = min(self.size + 1, self.max_size)\n",
        "\n",
        "        return self.n_step_buffer[0]\n",
        "\n",
        "    def sample_batch(self) -> Dict[str, np.ndarray]:\n",
        "        indices = np.random.choice(\n",
        "            self.size, size=self.batch_size, replace=False\n",
        "        )\n",
        "\n",
        "        return dict(\n",
        "            obs=self.obs_buf[indices],\n",
        "            next_obs=self.next_obs_buf[indices],\n",
        "            acts=self.acts_buf[indices],\n",
        "            rews=self.rews_buf[indices],\n",
        "            done=self.done_buf[indices],\n",
        "            # for N-step Learning\n",
        "            indices=indices,\n",
        "        )\n",
        "\n",
        "    def sample_batch_from_idxs(\n",
        "        self, indices: np.ndarray\n",
        "    ) -> Dict[str, np.ndarray]:\n",
        "        # for N-step Learning\n",
        "        return dict(\n",
        "            obs=self.obs_buf[indices],\n",
        "            next_obs=self.next_obs_buf[indices],\n",
        "            acts=self.acts_buf[indices],\n",
        "            rews=self.rews_buf[indices],\n",
        "            done=self.done_buf[indices],\n",
        "        )\n",
        "\n",
        "    def _get_n_step_info(\n",
        "        self, n_step_buffer: Deque, gamma: float\n",
        "    ) -> Tuple[np.int64, np.ndarray, bool]:\n",
        "        \"\"\"Return n step rew, next_obs, and done.\"\"\"\n",
        "        # info of the last transition\n",
        "        rew, next_obs, done = n_step_buffer[-1][-3:]\n",
        "\n",
        "        for transition in reversed(list(n_step_buffer)[:-1]):\n",
        "            r, n_o, d = transition[-3:]\n",
        "\n",
        "            rew = r + gamma * rew * (1 - d)\n",
        "            next_obs, done = (n_o, d) if d else (next_obs, done)\n",
        "\n",
        "        return rew, next_obs, done\n",
        "\n",
        "    def __len__(self) -> int:\n",
        "        return self.size"
      ]
    },
    {
      "cell_type": "markdown",
      "metadata": {
        "id": "ele8VjNNM9jS"
      },
      "source": [
        "## Network\n",
        "\n",
        "We are going to use a simple network architecture with three fully connected layers and two non-linearity functions (ReLU)."
      ]
    },
    {
      "cell_type": "code",
      "execution_count": 4,
      "metadata": {
        "id": "86r-7PPXM9jS"
      },
      "outputs": [],
      "source": [
        "class Network(nn.Module):\n",
        "    def __init__(self, in_dim: int, out_dim: int):\n",
        "        \"\"\"Initialization.\"\"\"\n",
        "        super(Network, self).__init__()\n",
        "\n",
        "        self.layers = nn.Sequential(\n",
        "            nn.Linear(in_dim, 128),\n",
        "            nn.ReLU(),\n",
        "            nn.Linear(128, 128),\n",
        "            nn.ReLU(),\n",
        "            nn.Linear(128, out_dim)\n",
        "        )\n",
        "\n",
        "    def forward(self, x: torch.Tensor) -> torch.Tensor:\n",
        "        \"\"\"Forward method implementation.\"\"\"\n",
        "        return self.layers(x)"
      ]
    },
    {
      "cell_type": "markdown",
      "metadata": {
        "id": "2SgMpndpM9jS"
      },
      "source": [
        "## DQN Agent + N-step learning Agent\n",
        "\n",
        "Here is a summary of DQNAgent class.\n",
        "\n",
        "| Method           | Note                                                 |\n",
        "| ---              | ---                                                  |\n",
        "|select_action     | select an action from the input state.               |\n",
        "|step              | take an action and return the response of the env.   |\n",
        "|compute_dqn_loss  | return dqn loss.                                     |\n",
        "|update_model      | update the model by gradient descent.                |\n",
        "|target_hard_update| hard update from the local model to the target model.|\n",
        "|train             | train the agent during num_frames.                   |\n",
        "|test              | test the agent (1 episode).                          |\n",
        "|plot              | plot the training progresses.                        |\n",
        "\n",
        "We use two buffers: `memory` and `memory_n` for 1-step transitions and n-step transitions respectively. It guarantees that any paired 1-step and n-step transitions have the same indices (See `step` method for more details). Due to the reason, we can sample pairs of transitions from the two buffers once we have indices for samples.\n",
        "\n",
        "```python\n",
        "    def update_model(self) -> torch.Tensor:\n",
        "        ...\n",
        "        samples = self.memory.sample_batch()\n",
        "        indices = samples[\"indices\"]\n",
        "        ...\n",
        "        \n",
        "        # N-step Learning loss\n",
        "        if self.use_n_step:\n",
        "            samples = self.memory_n.sample_batch_from_idxs(indices)\n",
        "            ...\n",
        "```\n",
        "\n",
        "One thing to note that  we are gonna combine 1-step loss and n-step loss so as to control high-variance / high-bias trade-off.\n",
        "\n",
        "(Search the comments with *N-step Leaning* to see any difference from DQN.)"
      ]
    },
    {
      "cell_type": "code",
      "execution_count": 5,
      "metadata": {
        "id": "sr2WzfBwM9jT"
      },
      "outputs": [],
      "source": [
        "class DQNAgent:\n",
        "    \"\"\"DQN Agent interacting with environment.\n",
        "\n",
        "    Attribute:\n",
        "        env (gym.Env): openAI Gym environment\n",
        "        memory (ReplayBuffer): replay memory to store transitions\n",
        "        batch_size (int): batch size for sampling\n",
        "        epsilon (float): parameter for epsilon greedy policy\n",
        "        epsilon_decay (float): step size to decrease epsilon\n",
        "        max_epsilon (float): max value of epsilon\n",
        "        min_epsilon (float): min value of epsilon\n",
        "        target_update (int): period for target model's hard update\n",
        "        gamma (float): discount factor\n",
        "        dqn (Network): model to train and select actions\n",
        "        dqn_target (Network): target model to update\n",
        "        optimizer (torch.optim): optimizer for training dqn\n",
        "        transition (list): transition information including\n",
        "                           state, action, reward, next_state, done\n",
        "        use_n_step (bool): whether to use n_step memory\n",
        "        n_step (int): step number to calculate n-step td error\n",
        "        memory_n (ReplayBuffer): n-step replay buffer\n",
        "    \"\"\"\n",
        "\n",
        "    def __init__(\n",
        "        self,\n",
        "        env: gym.Env,\n",
        "        memory_size: int,\n",
        "        batch_size: int,\n",
        "        target_update: int,\n",
        "        epsilon_decay: float,\n",
        "        seed: int,\n",
        "        max_epsilon: float = 1.0,\n",
        "        min_epsilon: float = 0.1,\n",
        "        gamma: float = 0.99,\n",
        "        # N-step Learning\n",
        "        n_step: int = 3,\n",
        "    ):\n",
        "        \"\"\"Initialization.\n",
        "\n",
        "        Args:\n",
        "            env (gym.Env): openAI Gym environment\n",
        "            memory_size (int): length of memory\n",
        "            batch_size (int): batch size for sampling\n",
        "            target_update (int): period for target model's hard update\n",
        "            epsilon_decay (float): step size to decrease epsilon\n",
        "            lr (float): learning rate\n",
        "            max_epsilon (float): max value of epsilon\n",
        "            min_epsilon (float): min value of epsilon\n",
        "            gamma (float): discount factor\n",
        "            n_step (int): step number to calculate n-step td error\n",
        "        \"\"\"\n",
        "        obs_dim = env.observation_space.shape[0]\n",
        "        action_dim = env.action_space.n\n",
        "\n",
        "        self.env = env\n",
        "        self.batch_size = batch_size\n",
        "        self.epsilon = max_epsilon\n",
        "        self.epsilon_decay = epsilon_decay\n",
        "        self.seed = seed\n",
        "        self.max_epsilon = max_epsilon\n",
        "        self.min_epsilon = min_epsilon\n",
        "        self.target_update = target_update\n",
        "        self.gamma = gamma\n",
        "\n",
        "        # memory for 1-step Learning\n",
        "        self.memory = ReplayBuffer(\n",
        "            obs_dim, memory_size, batch_size, n_step=1, gamma=gamma\n",
        "        )\n",
        "\n",
        "        # memory for N-step Learning\n",
        "        self.use_n_step = True if n_step > 1 else False\n",
        "        if self.use_n_step:\n",
        "            self.n_step = n_step\n",
        "            self.memory_n = ReplayBuffer(\n",
        "                obs_dim, memory_size, batch_size, n_step=n_step, gamma=gamma\n",
        "            )\n",
        "\n",
        "        # device: cpu / gpu\n",
        "        self.device = torch.device(\n",
        "            \"cuda\" if torch.cuda.is_available() else \"cpu\"\n",
        "        )\n",
        "        print(self.device)\n",
        "\n",
        "        # networks: dqn, dqn_target\n",
        "        self.dqn = Network(obs_dim, action_dim).to(self.device)\n",
        "        self.dqn_target = Network(obs_dim, action_dim).to(self.device)\n",
        "        self.dqn_target.load_state_dict(self.dqn.state_dict())\n",
        "        self.dqn_target.eval()\n",
        "\n",
        "        # optimizer\n",
        "        self.optimizer = optim.Adam(self.dqn.parameters())\n",
        "\n",
        "        # transition to store in memory\n",
        "        self.transition = list()\n",
        "\n",
        "        # mode: train / test\n",
        "        self.is_test = False\n",
        "\n",
        "    def select_action(self, state: np.ndarray) -> np.ndarray:\n",
        "        \"\"\"Select an action from the input state.\"\"\"\n",
        "        # epsilon greedy policy\n",
        "        if self.epsilon > np.random.random():\n",
        "            selected_action = self.env.action_space.sample()\n",
        "        else:\n",
        "            selected_action = self.dqn(\n",
        "                torch.FloatTensor(state).to(self.device)\n",
        "            ).argmax()\n",
        "            selected_action = selected_action.detach().cpu().numpy()\n",
        "\n",
        "        if not self.is_test:\n",
        "            self.transition = [state, selected_action]\n",
        "\n",
        "        return selected_action\n",
        "\n",
        "    def step(self, action: np.ndarray) -> Tuple[np.ndarray, np.float64, bool]:\n",
        "        \"\"\"Take an action and return the response of the env.\"\"\"\n",
        "        next_state, reward, terminated, truncated, _ = self.env.step(action)\n",
        "        done = terminated or truncated\n",
        "\n",
        "        if not self.is_test:\n",
        "            self.transition += [reward, next_state, done]\n",
        "\n",
        "            # N-step transition\n",
        "            if self.use_n_step:\n",
        "                one_step_transition = self.memory_n.store(*self.transition)\n",
        "            # 1-step transition\n",
        "            else:\n",
        "                one_step_transition = self.transition\n",
        "\n",
        "            # add a single step transition\n",
        "            if one_step_transition:\n",
        "                self.memory.store(*one_step_transition)\n",
        "\n",
        "        return next_state, reward, done\n",
        "\n",
        "    def update_model(self) -> torch.Tensor:\n",
        "        \"\"\"Update the model by gradient descent.\"\"\"\n",
        "        samples = self.memory.sample_batch()\n",
        "        indices = samples[\"indices\"]\n",
        "        loss = self._compute_dqn_loss(samples, self.gamma)\n",
        "\n",
        "        # N-step Learning loss\n",
        "        # we are gonna combine 1-step loss and n-step loss so as to\n",
        "        # prevent high-variance.\n",
        "        if self.use_n_step:\n",
        "            samples = self.memory_n.sample_batch_from_idxs(indices)\n",
        "            gamma = self.gamma ** self.n_step\n",
        "            n_loss = self._compute_dqn_loss(samples, gamma)\n",
        "            loss += n_loss\n",
        "\n",
        "        self.optimizer.zero_grad()\n",
        "        loss.backward()\n",
        "        self.optimizer.step()\n",
        "\n",
        "        return loss.item()\n",
        "\n",
        "    def train(self, num_frames: int, plotting_interval: int = 200):\n",
        "        \"\"\"Train the agent.\"\"\"\n",
        "        self.is_test = False\n",
        "\n",
        "        state, _ = self.env.reset(seed=self.seed)\n",
        "        update_cnt = 0\n",
        "        epsilons = []\n",
        "        losses = []\n",
        "        scores = []\n",
        "        score = 0\n",
        "\n",
        "        for frame_idx in range(1, num_frames + 1):\n",
        "            action = self.select_action(state)\n",
        "            next_state, reward, done = self.step(action)\n",
        "\n",
        "            state = next_state\n",
        "            score += reward\n",
        "\n",
        "            # if episode ends\n",
        "            if done:\n",
        "                state, _ = self.env.reset(seed=self.seed)\n",
        "                scores.append(score)\n",
        "                score = 0\n",
        "\n",
        "            # if training is ready\n",
        "            if len(self.memory) >= self.batch_size:\n",
        "                loss = self.update_model()\n",
        "                losses.append(loss)\n",
        "                update_cnt += 1\n",
        "\n",
        "                # linearly decrease epsilon\n",
        "                self.epsilon = max(\n",
        "                    self.min_epsilon, self.epsilon - (\n",
        "                        self.max_epsilon - self.min_epsilon\n",
        "                    ) * self.epsilon_decay\n",
        "                )\n",
        "                epsilons.append(self.epsilon)\n",
        "\n",
        "                # if hard update is needed\n",
        "                if update_cnt % self.target_update == 0:\n",
        "                    self._target_hard_update()\n",
        "\n",
        "            # plotting\n",
        "            if frame_idx % plotting_interval == 0:\n",
        "                self._plot(frame_idx, scores, losses, epsilons)\n",
        "\n",
        "        self.env.close()\n",
        "\n",
        "    def test(self, video_folder: str) -> None:\n",
        "        \"\"\"Test the agent.\"\"\"\n",
        "        self.is_test = True\n",
        "\n",
        "        # for recording a video\n",
        "        naive_env = self.env\n",
        "        self.env = gym.wrappers.RecordVideo(self.env, video_folder=video_folder)\n",
        "\n",
        "        state, _ = self.env.reset(seed=self.seed)\n",
        "        done = False\n",
        "        score = 0\n",
        "\n",
        "        while not done:\n",
        "            action = self.select_action(state)\n",
        "            next_state, reward, done = self.step(action)\n",
        "\n",
        "            state = next_state\n",
        "            score += reward\n",
        "\n",
        "        print(\"score: \", score)\n",
        "        self.env.close()\n",
        "\n",
        "        # reset\n",
        "        self.env = naive_env\n",
        "\n",
        "    def _compute_dqn_loss(\n",
        "        self,\n",
        "        samples: Dict[str, np.ndarray],\n",
        "        gamma: float\n",
        "    ) -> torch.Tensor:\n",
        "        \"\"\"Return dqn loss.\"\"\"\n",
        "        device = self.device  # for shortening the following lines\n",
        "        state = torch.FloatTensor(samples[\"obs\"]).to(device)\n",
        "        next_state = torch.FloatTensor(samples[\"next_obs\"]).to(device)\n",
        "        action = torch.LongTensor(samples[\"acts\"].reshape(-1, 1)).to(device)\n",
        "        reward = torch.FloatTensor(samples[\"rews\"].reshape(-1, 1)).to(device)\n",
        "        done = torch.FloatTensor(samples[\"done\"].reshape(-1, 1)).to(device)\n",
        "\n",
        "        # G_t   = r + gamma * v(s_{t+1})  if state != Terminal\n",
        "        #       = r                       otherwise\n",
        "        curr_q_value = self.dqn(state).gather(1, action)\n",
        "        next_q_value = self.dqn_target(next_state).max(\n",
        "            dim=1, keepdim=True\n",
        "        )[0].detach()\n",
        "        mask = 1 - done\n",
        "        target = (reward + gamma * next_q_value * mask).to(self.device)\n",
        "\n",
        "        # calculate dqn loss\n",
        "        loss = F.smooth_l1_loss(curr_q_value, target)\n",
        "\n",
        "        return loss\n",
        "\n",
        "    def _target_hard_update(self):\n",
        "        \"\"\"Hard update: target <- local.\"\"\"\n",
        "        self.dqn_target.load_state_dict(self.dqn.state_dict())\n",
        "\n",
        "    def _plot(\n",
        "        self,\n",
        "        frame_idx: int,\n",
        "        scores: List[float],\n",
        "        losses: List[float],\n",
        "        epsilons: List[float],\n",
        "    ):\n",
        "        \"\"\"Plot the training progresses.\"\"\"\n",
        "        clear_output(True)\n",
        "        plt.figure(figsize=(20, 5))\n",
        "        plt.subplot(131)\n",
        "        plt.title('frame %s. score: %s' % (frame_idx, np.mean(scores[-10:])))\n",
        "        plt.plot(scores)\n",
        "        plt.subplot(132)\n",
        "        plt.title('loss')\n",
        "        plt.plot(losses)\n",
        "        plt.subplot(133)\n",
        "        plt.title('epsilons')\n",
        "        plt.plot(epsilons)\n",
        "        plt.show()"
      ]
    },
    {
      "cell_type": "markdown",
      "metadata": {
        "id": "BG0erORJM9jT"
      },
      "source": [
        "## Environment\n",
        "\n",
        "You can see the [code](https://github.com/Farama-Foundation/Gymnasium/blob/main/gymnasium/envs/classic_control/cartpole.py) and [configurations](https://github.com/Farama-Foundation/Gymnasium/blob/main/gymnasium/envs/classic_control/cartpole.py#L91) of CartPole-v1 from Farama Gymnasium's repository."
      ]
    },
    {
      "cell_type": "code",
      "execution_count": 6,
      "metadata": {
        "id": "yxg_1yBXM9jU"
      },
      "outputs": [],
      "source": [
        "# environment\n",
        "env = gym.make(\"CartPole-v1\", max_episode_steps=200, render_mode=\"rgb_array\")"
      ]
    },
    {
      "cell_type": "markdown",
      "metadata": {
        "id": "qVlhzJj9M9jU"
      },
      "source": [
        "## Set random seed"
      ]
    },
    {
      "cell_type": "code",
      "execution_count": 7,
      "metadata": {
        "id": "c_4Bhh_rM9jU"
      },
      "outputs": [],
      "source": [
        "seed = 777\n",
        "\n",
        "def seed_torch(seed):\n",
        "    torch.manual_seed(seed)\n",
        "    if torch.backends.cudnn.enabled:\n",
        "        torch.cuda.manual_seed(seed)\n",
        "        torch.backends.cudnn.benchmark = False\n",
        "        torch.backends.cudnn.deterministic = True\n",
        "\n",
        "np.random.seed(seed)\n",
        "seed_torch(seed)"
      ]
    },
    {
      "cell_type": "markdown",
      "metadata": {
        "id": "lZJ0re1bM9jU"
      },
      "source": [
        "## Initialize"
      ]
    },
    {
      "cell_type": "code",
      "execution_count": 8,
      "metadata": {
        "colab": {
          "base_uri": "https://localhost:8080/"
        },
        "id": "jHXcvVhCM9jU",
        "outputId": "19890ae1-e140-4b20-e73a-7677d0196344"
      },
      "outputs": [
        {
          "output_type": "stream",
          "name": "stdout",
          "text": [
            "cuda\n"
          ]
        }
      ],
      "source": [
        "# parameters\n",
        "num_frames = 10000\n",
        "memory_size = 2000\n",
        "batch_size = 32\n",
        "target_update = 100\n",
        "epsilon_decay = 1 / 2000\n",
        "\n",
        "# train\n",
        "agent = DQNAgent(env, memory_size, batch_size, target_update, epsilon_decay, seed)"
      ]
    },
    {
      "cell_type": "markdown",
      "metadata": {
        "id": "-0eIX0T8M9jV"
      },
      "source": [
        "## Train"
      ]
    },
    {
      "cell_type": "code",
      "execution_count": 9,
      "metadata": {
        "colab": {
          "base_uri": "https://localhost:8080/",
          "height": 249
        },
        "id": "hwSf5SnlM9jV",
        "outputId": "6a5c2fe2-1ec0-4cd6-d265-c057136dd9b0"
      },
      "outputs": [
        {
          "output_type": "display_data",
          "data": {
            "text/plain": [
              "<Figure size 2000x500 with 3 Axes>"
            ],
            "image/png": "[encoded data removed]"
          },
          "metadata": {}
        }
      ],
      "source": [
        "agent.train(num_frames)"
      ]
    },
    {
      "cell_type": "markdown",
      "metadata": {
        "id": "-FjFco6VM9jV"
      },
      "source": [
        "## Test\n",
        "\n",
        "Run the trained agent (1 episode)."
      ]
    },
    {
      "cell_type": "code",
      "execution_count": 10,
      "metadata": {
        "colab": {
          "base_uri": "https://localhost:8080/"
        },
        "id": "ZYsLjHUaM9jV",
        "outputId": "c42d544e-805e-4552-d9ab-aa4121ee2c03"
      },
      "outputs": [
        {
          "output_type": "stream",
          "name": "stdout",
          "text": [
            "Moviepy - Building video /content/videos/n_step_learning/rl-video-episode-0.mp4.\n",
            "Moviepy - Writing video /content/videos/n_step_learning/rl-video-episode-0.mp4\n",
            "\n"
          ]
        },
        {
          "output_type": "stream",
          "name": "stderr",
          "text": []
        },
        {
          "output_type": "stream",
          "name": "stdout",
          "text": [
            "Moviepy - Done !\n",
            "Moviepy - video ready /content/videos/n_step_learning/rl-video-episode-0.mp4\n",
            "score:  200.0\n"
          ]
        }
      ],
      "source": [
        "video_folder=\"videos/n_step_learning\"\n",
        "agent.test(video_folder=video_folder)"
      ]
    },
    {
      "cell_type": "markdown",
      "metadata": {
        "id": "MtL30Xx1M9jW"
      },
      "source": [
        "## Render"
      ]
    },
    {
      "cell_type": "code",
      "execution_count": 11,
      "metadata": {
        "colab": {
          "base_uri": "https://localhost:8080/",
          "height": 278
        },
        "id": "F-e26GG2M9jW",
        "outputId": "35a9d48b-e672-418d-ee39-b6f9c61ad25c"
      },
      "outputs": [
        {
          "output_type": "display_data",
          "data": {
            "text/plain": [
              "<IPython.core.display.HTML object>"
            ],
            "text/html": [
              "\n",
              "        <video width=\"320\" height=\"240\" alt=\"test\" controls>\n",
              "        <source src=\"data:video/mp4;base64,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\" type=\"video/mp4\"/>\n",
              "        </video>\n",
              "        "
            ]
          },
          "metadata": {}
        },
        {
          "output_type": "stream",
          "name": "stdout",
          "text": [
            "Played: videos/n_step_learning/rl-video-episode-0.mp4\n"
          ]
        }
      ],
      "source": [
        "import base64\n",
        "import glob\n",
        "import io\n",
        "import os\n",
        "\n",
        "from IPython.display import HTML, display\n",
        "\n",
        "\n",
        "def ipython_show_video(path: str) -> None:\n",
        "    \"\"\"Show a video at `path` within IPython Notebook.\"\"\"\n",
        "    if not os.path.isfile(path):\n",
        "        raise NameError(\"Cannot access: {}\".format(path))\n",
        "\n",
        "    video = io.open(path, \"r+b\").read()\n",
        "    encoded = base64.b64encode(video)\n",
        "\n",
        "    display(HTML(\n",
        "        data=\"\"\"\n",
        "        <video width=\"320\" height=\"240\" alt=\"test\" controls>\n",
        "        <source src=\"data:video/mp4;base64,{0}\" type=\"video/mp4\"/>\n",
        "        </video>\n",
        "        \"\"\".format(encoded.decode(\"ascii\"))\n",
        "    ))\n",
        "\n",
        "\n",
        "def show_latest_video(video_folder: str) -> str:\n",
        "    \"\"\"Show the most recently recorded video from video folder.\"\"\"\n",
        "    list_of_files = glob.glob(os.path.join(video_folder, \"*.mp4\"))\n",
        "    latest_file = max(list_of_files, key=os.path.getctime)\n",
        "    ipython_show_video(latest_file)\n",
        "    return latest_file\n",
        "\n",
        "\n",
        "latest_file = show_latest_video(video_folder=video_folder)\n",
        "print(\"Played:\", latest_file)"
      ]
    }
  ],
  "metadata": {
    "kernelspec": {
      "display_name": "rainbow-is-all-you-need",
      "language": "python",
      "name": "rainbow-is-all-you-need"
    },
    "language_info": {
      "codemirror_mode": {
        "name": "ipython",
        "version": 3
      },
      "file_extension": ".py",
      "mimetype": "text/x-python",
      "name": "python",
      "nbconvert_exporter": "python",
      "pygments_lexer": "ipython3",
      "version": "3.8.12"
    },
    "colab": {
      "provenance": [],
      "gpuType": "T4",
      "include_colab_link": true
    },
    "accelerator": "GPU"
  },
  "nbformat": 4,
  "nbformat_minor": 0
}